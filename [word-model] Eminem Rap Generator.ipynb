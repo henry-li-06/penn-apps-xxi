{
 "cells": [
  {
   "cell_type": "code",
   "execution_count": 19,
   "metadata": {},
   "outputs": [],
   "source": [
    "from __future__ import print_function\n",
    "from keras.callbacks import LambdaCallback\n",
    "from keras.models import Sequential\n",
    "from keras.layers import Dense, Activation\n",
    "from keras.layers import LSTM\n",
    "from keras.optimizers import RMSprop, Adam\n",
    "from keras.utils.data_utils import get_file\n",
    "from random import randint\n",
    "from collections import OrderedDict \n",
    "import numpy as np\n",
    "import pandas as pd\n",
    "import random\n",
    "import sys\n",
    "import io\n",
    "import re\n",
    "from unidecode import unidecode"
   ]
  },
  {
   "cell_type": "code",
   "execution_count": 20,
   "metadata": {},
   "outputs": [],
   "source": [
    "songs = pd.read_csv('data/wu-tang-clan-lyrics.csv')"
   ]
  },
  {
   "cell_type": "code",
   "execution_count": 21,
   "metadata": {},
   "outputs": [],
   "source": [
    "def get_tokenized_lines(df):\n",
    "    words = []\n",
    "    \n",
    "    for index, row in df['lyrics'].iteritems():\n",
    "        row = str(row).lower()\n",
    "        for line in row.split('|-|'):\n",
    "            new_words = re.findall(r\"\\b[a-z']+\\b\", unidecode(line))\n",
    "            words = words + new_words\n",
    "        \n",
    "    return words"
   ]
  },
  {
   "cell_type": "code",
   "execution_count": 22,
   "metadata": {},
   "outputs": [],
   "source": [
    "all_lyric_lines = get_tokenized_lines(songs)"
   ]
  },
  {
   "cell_type": "code",
   "execution_count": 23,
   "metadata": {},
   "outputs": [
    {
     "name": "stdout",
     "output_type": "stream",
     "text": [
      "Total Sequences: 18887\n"
     ]
    }
   ],
   "source": [
    "SEQ_LENGTH = 50 + 1\n",
    "sequences = list()\n",
    "\n",
    "for i in range(SEQ_LENGTH, len(all_lyric_lines)):\n",
    "    seq = all_lyric_lines[i - SEQ_LENGTH: i]\n",
    "    sequences.append(seq)\n",
    "\n",
    "print('Total Sequences: %d' % len(sequences))"
   ]
  },
  {
   "cell_type": "code",
   "execution_count": 24,
   "metadata": {},
   "outputs": [],
   "source": [
    "def save_doc(lines, filename):\n",
    "    for line in lines:\n",
    "        data = ' '.join(line)\n",
    "        \n",
    "    '\\n'.join(data)\n",
    "    file = open(filename, 'w')\n",
    "    file.write(data)\n",
    "    file.close()"
   ]
  },
  {
   "cell_type": "code",
   "execution_count": 25,
   "metadata": {},
   "outputs": [],
   "source": [
    "out_filename = 'sequences.txt'\n",
    "save_doc(sequences, out_filename)"
   ]
  },
  {
   "cell_type": "code",
   "execution_count": 26,
   "metadata": {},
   "outputs": [
    {
     "name": "stdout",
     "output_type": "stream",
     "text": [
      "{\"'s\": 0, 'a': 1, 'aa': 2, 'aah': 3, 'abbot': 4, 'abbott': 5, 'abel': 6, 'abilities': 7, 'able': 8, 'about': 9, 'above': 10, 'absolut': 11, \"ac's\": 12, 'academically': 13, 'acapella': 14, 'accepted': 15, 'ace': 16, 'achie': 17, 'across': 18, 'act': 19, 'actin': 20, 'acts': 21, 'actual': 22, 'add': 23, 'adding': 24, 'addition': 25, 'adidas': 26, 'adina': 27, 'adjourned': 28, 'administration': 29, 'admire': 30, 'advantage': 31, 'adventure': 32, 'adviser': 33, 'afraid': 34, 'african': 35, 'afro': 36, 'after': 37, 'again': 38, 'against': 39, 'age': 40, 'ageless': 41, 'agenda': 42, 'agent': 43, 'ago': 44, 'agony': 45, 'ah': 46, 'ahead': 47, 'ahh': 48, 'ahhh': 49, 'aight': 50, 'aiii': 51, 'aim': 52, \"ain't\": 53, 'aint': 54, 'airin': 55, 'airplane': 56, 'airtime': 57, 'airwaves': 58, 'aisle': 59, 'aiyo': 60, 'aiyy': 61, 'aiyyo': 62, 'ak': 63, 'akh': 64, 'al': 65, 'alabama': 66, 'albert': 67, 'alex': 68, 'ali': 69, 'alive': 70, 'all': 71, 'allah': 72, \"allah's\": 73, 'allow': 74, 'almost': 75, 'already': 76, 'also': 77, 'alway': 78, 'am': 79, 'amazin': 80, 'amazing': 81, 'ambulance': 82, 'america': 83, 'amor': 84, 'amount': 85, 'amp': 86, 'amplifier': 87, 'an': 88, 'analoo': 89, 'and': 90, 'ands': 91, 'anesthetics': 92, 'anger': 93, 'angle': 94, 'anheuser': 95, 'announced': 96, 'anointed': 97, 'another': 98, 'answers': 99, 'anthem': 100, 'anxiety': 101, 'any': 102, 'anything': 103, 'anyway': 104, 'apart': 105, 'apartment': 106, 'apb': 107, 'apocalypse': 108, 'apostle': 109, 'appeared': 110, 'appetite': 111, 'applaud': 112, 'apple': 113, 'applied': 114, 'applying': 115, 'appoint': 116, 'appointed': 117, 'approach': 118, 'approachin': 119, 'aqui': 120, 'architecture': 121, 'are': 122, 'ark': 123, 'arm': 124, 'armed': 125, 'arms': 126, 'around': 127, 'array': 128, 'arrival': 129, 'art': 130, 'article': 131, 'artists': 132, 'arts': 133, 'as': 134, 'ashes': 135, 'asian': 136, 'ask': 137, 'ason': 138, 'ass': 139, 'assassin': 140, 'assassinating': 141, 'assassination': 142, 'assassinator': 143, 'assault': 144, 'assemble': 145, 'asses': 146, 'assets': 147, 'asshole': 148, 'assist': 149, 'associate': 150, 'at': 151, 'atcha': 152, 'ate': 153, 'athlete': 154, 'atlanta': 155, 'atmosphere': 156, 'atomically': 157, 'attack': 158, 'attacked': 159, 'attacking': 160, 'attacks': 161, 'attention': 162, 'attitude': 163, 'attract': 164, 'attraction': 165, 'aunt': 166, 'authorization': 167, 'auto': 168, 'autograph': 169, 'automatic': 170, 'ave': 171, 'avenger': 172, 'avenging': 173, 'average': 174, 'aw': 175, 'awake': 176, 'award': 177, 'aware': 178, 'away': 179, 'awesome': 180, 'awful': 181, 'ax': 182, 'axe': 183, 'axekiller': 184, 'aye': 185, 'ayo': 186, 'ayy': 187, 'b': 188, \"b's\": 189, \"b'z\": 190, 'babies': 191, 'baby': 192, \"baby's\": 193, 'babyface': 194, 'babylon': 195, 'babyyyyy': 196, 'bacardi': 197, 'back': 198, 'backed': 199, 'backs': 200, \"backyard's\": 201, 'bad': 202, 'badly': 203, 'badu': 204, 'bag': 205, 'baggies': 206, 'baggin': 207, 'baggy': 208, 'bags': 209, 'bailey': 210, 'bake': 211, 'baking': 212, 'bal': 213, 'bald': 214, 'bale': 215, 'ball': 216, 'ballerinas': 217, 'ballin': 218, 'ballistics': 219, 'balls': 220, 'bals': 221, 'bam': 222, 'banana': 223, 'bancos': 224, 'band': 225, 'bandit': 226, 'bang': 227, 'banger': 228, 'bangin': 229, 'bangos': 230, 'bangs': 231, 'bank': 232, 'banks': 233, 'banner': 234, 'bap': 235, \"bap's\": 236, 'bar': 237, 'bark': 238, 'barrel': 239, 'barricade': 240, 'bars': 241, 'bartholemew': 242, 'base': 243, 'baselines': 244, 'basic': 245, 'basin': 246, 'basketball': 247, 'bass': 248, 'bastard': 249, 'bastards': 250, 'bat': 251, 'baton': 252, 'battery': 253, 'battle': 254, 'be': 255, 'beach': 256, 'bead': 257, 'beam': 258, 'beamers': 259, 'beams': 260, 'bear': 261, 'beast': 262, 'beat': 263, 'beats': 264, 'beaver': 265, 'became': 266, 'because': 267, 'become': 268, 'bed': 269, 'bedrock': 270, 'bee': 271, 'beef': 272, 'been': 273, 'beenie': 274, 'beer': 275, 'bees': 276, 'beetle': 277, 'beez': 278, 'before': 279, 'begin': 280, 'behalf': 281, 'behaviour': 282, 'behind': 283, 'behold': 284, 'bein': 285, 'beirut': 286, 'bellyaching': 287, 'belt': 288, 'ben': 289, 'benadine': 290, 'benelovent': 291, 'bent': 292, 'bentleys': 293, 'benz': 294, 'benzo': 295, 'berserk': 296, 'best': 297, 'bet': 298, 'bets': 299, 'betta': 300, 'better': 301, 'beware': 302, 'beyond': 303, 'bi': 304, 'big': 305, 'bigger': 306, 'bigotry': 307, 'bikini': 308, 'bill': 309, 'billboard': 310, 'billie': 311, 'bills': 312, 'bind': 313, 'birds': 314, 'birdy': 315, 'birth': 316, 'birthday': 317, 'biscuits': 318, 'bishop': 319, 'bit': 320, 'bitch': 321, 'bitches': 322, 'bite': 323, 'bitter': 324, 'biz': 325, 'bizarro': 326, 'black': 327, 'blacksmiths': 328, 'blade': 329, 'blades': 330, 'blam': 331, 'blanca': 332, 'blank': 333, 'blaow': 334, 'blast': 335, \"blast'll\": 336, 'blasted': 337, 'blastin': 338, 'blasting': 339, 'blaze': 340, 'blazers': 341, 'bleach': 342, 'bled': 343, 'bleed': 344, 'bleedin': 345, 'blend': 346, 'bless': 347, 'blessed': 348, 'blew': 349, 'blind': 350, 'blinking': 351, 'blitzed': 352, 'block': 353, 'blocks': 354, 'blood': 355, 'bloodstream': 356, 'bloom': 357, \"bloomingdale's\": 358, 'blossom': 359, 'blots': 360, 'blow': 361, 'blowin': 362, 'blowing': 363, 'blown': 364, 'blows': 365, 'blue': 366, 'bluff': 367, 'blunt': 368, 'blunting': 369, 'blunts': 370, 'bo': 371, 'board': 372, 'bob': 373, 'bobby': 374, 'bodies': 375, 'bodily': 376, 'body': 377, 'bogart': 378, 'boilin': 379, 'bold': 380, 'bolivia': 381, 'bolo': 382, 'bomb': 383, 'bombin': 384, 'bombs': 385, 'bon': 386, 'bond': 387, 'bone': 388, 'bones': 389, 'bong': 390, 'bons': 391, 'boo': 392, 'book': 393, 'books': 394, 'boom': 395, 'boost': 396, 'boots': 397, 'bootyyyyyy': 398, 'booze': 399, 'border': 400, 'born': 401, 'borough': 402, 'boroughs': 403, 'boss': 404, 'both': 405, 'bother': 406, 'bottles': 407, 'bought': 408, 'boulders': 409, 'bounced': 410, 'bound': 411, 'bout': 412, 'bow': 413, 'bowl': 414, 'box': 415, 'boy': 416, \"boy's\": 417, 'boys': 418, 'braids': 419, 'brain': 420, 'braincells': 421, 'branch': 422, 'brandish': 423, 'brave': 424, 'brawlers': 425, 'bread': 426, 'break': 427, 'breakin': 428, 'breasts': 429, 'breath': 430, 'breathe': 431, 'breathin': 432, 'breathing': 433, 'bricks': 434, 'bright': 435, 'bring': 436, 'british': 437, 'bro': 438, 'broke': 439, 'broken': 440, 'bronx': 441, 'brooklyn': 442, 'brooms': 443, 'brother': 444, 'brothers': 445, 'brought': 446, 'brown': 447, 'bruh': 448, 'buck': 449, 'bucked': 450, 'buckets': 451, 'buckus': 452, 'buckwild': 453, 'buckwu': 454, 'buddha': 455, 'budge': 456, 'bugged': 457, 'buggin': 458, 'bugs': 459, 'builders': 460, 'building': 461, 'built': 462, 'bulb': 463, 'bull': 464, 'bulldog': 465, 'bullet': 466, 'bullets': 467, 'bunch': 468, 'burglarize': 469, 'burn': 470, 'burned': 471, 'burners': 472, 'burnt': 473, 'burst': 474, 'bursts': 475, 'burt': 476, 'bury': 477, 'bus': 478, 'busch': 479, 'bust': 480, 'busted': 481, 'bustin': 482, 'busy': 483, 'but': 484, 'butt': 485, 'butter': 486, 'buy': 487, 'by': 488, 'bys': 489, 'bystanders': 490, 'c': 491, 'caesar': 492, 'cage': 493, 'cain': 494, 'cake': 495, 'calculated': 496, 'cali': 497, 'california': 498, 'caligula': 499, 'call': 500, 'called': 501, 'callin': 502, 'calling': 503, 'calls': 504, 'calm': 505, 'came': 506, 'cameramen': 507, 'camouflauge': 508, 'camp': 509, 'campbell': 510, 'campfire': 511, 'campus': 512, 'cams': 513, 'can': 514, \"can't\": 515, 'canal': 516, 'candles': 517, 'cannot': 518, 'canvas': 519, 'cap': 520, 'cappachino': 521, 'cappadonna': 522, 'caps': 523, 'capsules': 524, 'capture': 525, 'car': 526, 'caramel': 527, 'cardiac': 528, 'care': 529, 'caribbean': 530, 'carnage': 531, 'carried': 532, 'carrier': 533, 'carries': 534, 'carry': 535, 'carryin': 536, 'cart': 537, 'casa': 538, 'case': 539, 'cash': 540, 'cast': 541, 'cat': 542, 'catalog': 543, 'catalogues': 544, 'catastrophe': 545, 'catch': 546, 'catchin': 547, 'cats': 548, 'caucus': 549, 'caught': 550, 'cause': 551, 'causes': 552, 'causin': 553, 'cd': 554, 'celibate': 555, 'cell': 556, 'cent': 557, 'center': 558, 'centipede': 559, 'central': 560, 'cereal': 561, 'cerebral': 562, 'certain': 563, 'certainly': 564, 'certified': 565, 'ch': 566, 'cha': 567, 'chain': 568, 'chains': 569, 'chalk': 570, 'challenging': 571, 'chamber': 572, 'chambers': 573, 'chameleon': 574, 'champion': 575, 'chance': 576, 'chancellor': 577, 'chances': 578, 'change': 579, 'changed': 580, 'changes': 581, 'chant': 582, 'chaperone': 583, 'chapter': 584, 'charge': 585, 'charged': 586, 'charm': 587, 'charts': 588, 'chase': 589, 'chased': 590, 'chatterbox': 591, 'cheap': 592, 'check': 593, 'checkmate': 594, 'cheek': 595, 'chef': 596, 'chemists': 597, 'cherie': 598, 'cherries': 599, 'cherry': 600, 'chess': 601, 'chessbox': 602, 'chest': 603, 'chester': 604, 'chicago': 605, 'chick': 606, 'chickens': 607, 'chicks': 608, 'chief': 609, 'child': 610, 'children': 611, 'chill': 612, 'chillin': 613, 'chim': 614, 'chimmeny': 615, 'chin': 616, 'china': 617, 'chip': 618, 'chocolate': 619, 'choke': 620, 'chokin': 621, 'chop': 622, 'chopped': 623, 'choppin': 624, 'chops': 625, 'chose': 626, 'chosen': 627, 'christ': 628, 'christian': 629, 'chrome': 630, 'chronic': 631, 'chronicles': 632, 'chump': 633, 'chumps': 634, 'chunk': 635, 'church': 636, 'cinder': 637, 'cinnamon': 638, 'cipher': 639, 'circulate': 640, 'civilians': 641, 'claim': 642, 'clan': 643, 'clansman': 644, 'clapped': 645, 'clappin': 646, 'clark': 647, \"clark's\": 648, 'classes': 649, 'classic': 650, 'classrooms': 651, 'cleaner': 652, 'clear': 653, 'cleat': 654, 'clergy': 655, 'clever': 656, 'cliches': 657, 'click': 658, 'clickin': 659, 'clifford': 660, 'climb': 661, 'climber': 662, 'clip': 663, 'clips': 664, 'clog': 665, 'clorox': 666, 'close': 667, 'closed': 668, 'closely': 669, 'clot': 670, 'clothes': 671, 'cloud': 672, 'clout': 673, 'clovers': 674, 'clowns': 675, 'club': 676, 'clue': 677, 'clumsy': 678, 'clutch': 679, 'clutches': 680, 'coal': 681, 'coast': 682, 'coats': 683, 'cocaine': 684, 'cochran': 685, 'cock': 686, 'cocker': 687, 'code': 688, 'codeine': 689, 'coke': 690, 'cold': 691, 'coles': 692, 'colgate': 693, 'collecting': 694, 'collide': 695, 'color': 696, 'colored': 697, 'colors': 698, 'combat': 699, 'combination': 700, 'combine': 701, 'combos': 702, 'come': 703, \"come'th\": 704, 'comes': 705, 'cometh': 706, 'comfortable': 707, 'comin': 708, 'coming': 709, 'commercial': 710, 'committin': 711, 'commotion': 712, 'communicatin': 713, 'companies': 714, 'compare': 715, 'compared': 716, 'compartments': 717, 'compeda': 718, 'competition': 719, 'competitor': 720, 'complete': 721, 'complexion': 722, 'composition': 723, 'compositions': 724, 'comprehend': 725, 'conceal': 726, 'concentration': 727, 'concrete': 728, 'condos': 729, 'conflict': 730, 'connect': 731, 'connor': 732, 'conquer': 733, 'conquest': 734, 'consider': 735, 'consistent': 736, 'constantly': 737, 'consume': 738, 'contain': 739, 'contaminated': 740, 'contender': 741, 'contestants': 742, 'contestin': 743, 'continue': 744, 'continues': 745, 'control': 746, 'controlled': 747, 'convention': 748, 'conversation': 749, 'convinced': 750, 'convincin': 751, 'convincing': 752, 'cook': 753, 'cooked': 754, 'cool': 755, 'cop': 756, 'cope': 757, 'copies': 758, 'copped': 759, 'copper': 760, 'cops': 761, 'corey': 762, 'corn': 763, 'corner': 764, 'corny': 765, 'corrosive': 766, 'corrupt': 767, 'cortex': 768, 'cost': 769, 'costra': 770, 'cough': 771, 'could': 772, \"couldn't\": 773, 'count': 774, 'counterfeit': 775, 'counting': 776, 'countryside': 777, 'county': 778, 'course': 779, 'court': 780, 'courts': 781, 'cousin': 782, 'cousteau': 783, 'cover': 784, 'cow': 785, 'cower': 786, 'crab': 787, 'crabby': 788, 'crack': 789, 'cracked': 790, 'cracks': 791, 'crafts': 792, 'cranberry': 793, 'crane': 794, 'crank': 795, 'crash': 796, 'crashing': 797, 'crawlers': 798, 'crazy': 799, 'crazyyyyy': 800, 'cream': 801, 'create': 802, 'creepin': 803, 'creeps': 804, 'cremate': 805, 'crew': 806, 'crews': 807, 'crib': 808, 'cribs': 809, 'crime': 810, 'crimey': 811, 'criminal': 812, 'criminals': 813, 'criminology': 814, 'cripple': 815, 'critical': 816, 'croakin': 817, 'crooked': 818, 'crooks': 819, 'crops': 820, 'cross': 821, 'crossin': 822, 'crowd': 823, 'cruisers': 824, 'crush': 825, 'crushin': 826, 'cry': 827, 'cryin': 828, 'crying': 829, 'crystal': 830, 'crystalize': 831, 'cs': 832, 'cuban': 833, 'culture': 834, 'cup': 835, 'curb': 836, 'curly': 837, 'currency': 838, 'curtains': 839, 'custom': 840, 'customers': 841, 'customs': 842, 'cut': 843, 'cuz': 844, 'cyanide': 845, 'cypher': 846, 'cyrus': 847, 'd': 848, 'da': 849, 'dab': 850, 'dad': 851, 'dagger': 852, 'damage': 853, 'damn': 854, 'damned': 855, 'dance': 856, 'dang': 857, 'danger': 858, 'dangerous': 859, 'dare': 860, 'dark': 861, 'dart': 862, 'darthy': 863, 'darts': 864, 'dashin': 865, \"dat's\": 866, 'david': 867, 'dawson': 868, 'day': 869, 'days': 870, 'daytime': 871, 'de': 872, 'dead': 873, 'deadly': 874, 'deal': 875, 'dealin': 876, 'dealing': 877, 'deals': 878, 'dealt': 879, 'dear': 880, 'death': 881, 'december': 882, 'decimation': 883, 'deck': 884, \"deck'll\": 885, \"deck's\": 886, 'decreasin': 887, 'dedicated': 888, 'deep': 889, 'defeat': 890, 'defender': 891, 'deficit': 892, 'define': 893, 'defy': 894, 'defying': 895, 'deja': 896, 'delegate': 897, 'deluxe': 898, 'deluxes': 899, 'demand': 900, 'dennis': 901, 'depend': 902, 'depressed': 903, 'desert': 904, 'desire': 905, 'destination': 906, 'destruction': 907, 'deter': 908, 'detroit': 909, 'devil': 910, 'devils': 911, 'diabolical': 912, 'dialin': 913, 'diamonds': 914, 'diarrhea': 915, 'diary': 916, 'dick': 917, \"dick's\": 918, 'did': 919, \"didn't\": 920, 'didnt': 921, 'die': 922, 'diehard': 923, 'dies': 924, 'diesel': 925, 'different': 926, 'dig': 927, 'digable': 928, 'diggs': 929, 'diggy': 930, 'digital': 931, 'diluted': 932, 'dim': 933, 'dime': 934, 'ding': 935, 'dip': 936, 'dips': 937, 'directed': 938, 'directors': 939, 'dirt': 940, 'dirtiest': 941, 'dirty': 942, 'disappear': 943, 'disaster': 944, 'disastrous': 945, 'disciple': 946, 'discuss': 947, 'dismembered': 948, 'displays': 949, 'diss': 950, 'dissed': 951, 'distant': 952, 'divine': 953, 'dj': 954, 'dna': 955, 'do': 956, 'dobo': 957, 'doc': 958, 'dodge': 959, 'does': 960, 'dog': 961, \"dog's\": 962, 'dogs': 963, 'doin': 964, 'doing': 965, 'dokie': 966, 'dolla': 967, 'dollar': 968, 'dollars': 969, 'dolo': 970, 'dominant': 971, 'domino': 972, 'don': 973, \"don't\": 974, 'done': 975, 'donna': 976, 'dont': 977, 'doo': 978, 'doom': 979, 'door': 980, 'dope': 981, 'dosage': 982, 'dot': 983, 'double': 984, 'doubt': 985, 'doubtin': 986, 'dough': 987, 'doves': 988, 'down': 989, 'downside': 990, 'downtown': 991, 'downwind': 992, 'dozen': 993, 'dr': 994, 'draft': 995, 'drag': 996, \"dragon's\": 997, 'dram': 998, 'drastic': 999, 'draw': 1000, 'drawers': 1001, 'dream': 1002, 'dreams': 1003, 'dress': 1004, 'dresser': 1005, 'drew': 1006, 'dried': 1007, 'drill': 1008, 'drink': 1009, 'drinkers': 1010, 'drinkin': 1011, 'drinking': 1012, 'drippin': 1013, 'dripping': 1014, 'drive': 1015, 'driver': 1016, 'drivin': 1017, 'dro': 1018, 'drop': 1019, 'dropkicks': 1020, 'dropped': 1021, 'droppin': 1022, 'drove': 1023, 'drug': 1024, 'drugs': 1025, 'drum': 1026, 'drums': 1027, 'drunk': 1028, 'drunken': 1029, 'du': 1030, 'ducin': 1031, 'duck': 1032, 'ducked': 1033, 'duckin': 1034, 'ducking': 1035, 'dude': 1036, 'dudes': 1037, 'due': 1038, 'duets': 1039, 'dug': 1040, 'duh': 1041, 'dumb': 1042, 'dumped': 1043, 'dungeon': 1044, 'dustin': 1045, 'dutch': 1046, 'dutches': 1047, 'dynasty': 1048, 'e': 1049, 'each': 1050, 'eagle': 1051, 'ear': 1052, 'eardrum': 1053, 'earlobes': 1054, 'earth': 1055, 'earths': 1056, 'ease': 1057, 'east': 1058, 'eat': 1059, 'eatin': 1060, 'edit': 1061, 'edition': 1062, 'effect': 1063, 'egg': 1064, 'eggs': 1065, 'ego': 1066, 'egypt': 1067, 'egyptian': 1068, 'eight': 1069, 'eighteen': 1070, 'eighth': 1071, 'eights': 1072, 'eighty': 1073, 'ejectin': 1074, 'elbow': 1075, 'electric': 1076, 'elements': 1077, 'elephant': 1078, 'elevate': 1079, 'elite': 1080, 'em': 1081, 'emancipation': 1082, 'emerged': 1083, 'emotion': 1084, 'empire': 1085, 'empty': 1086, 'en': 1087, 'enchant': 1088, 'end': 1089, 'ends': 1090, 'energy': 1091, 'enforcin': 1092, 'engage': 1093, 'english': 1094, 'engraved': 1095, 'enigma': 1096, 'enjoyment': 1097, 'enough': 1098, 'enter': 1099, 'enters': 1100, 'entity': 1101, 'entry': 1102, 'epidemics': 1103, 'episode': 1104, 'equipped': 1105, 'er': 1106, 'era': 1107, 'erica': 1108, 'erupts': 1109, 'erykah': 1110, 'escape': 1111, 'escapes': 1112, 'escobar': 1113, 'estates': 1114, 'evaporate': 1115, 'even': 1116, 'eventually': 1117, 'ever': 1118, 'everday': 1119, 'everglades': 1120, 'evergreen': 1121, 'everlastin': 1122, 'every': 1123, 'everybody': 1124, \"everybody's\": 1125, 'everyday': 1126, 'everything': 1127, 'everywhere': 1128, 'evidence': 1129, 'ex': 1130, 'exactly': 1131, 'exaggerated': 1132, 'examinated': 1133, 'excalibur': 1134, 'except': 1135, 'exception': 1136, 'excited': 1137, 'excuse': 1138, 'excuses': 1139, 'executin': 1140, 'executioners': 1141, 'exfoliate': 1142, 'exile': 1143, 'exoticness': 1144, 'expanding': 1145, 'expect': 1146, 'experience': 1147, 'explained': 1148, 'explicit': 1149, 'explode': 1150, 'explosion': 1151, 'explosive': 1152, 'explosives': 1153, 'expressed': 1154, \"extin'uish\": 1155, 'extremist': 1156, 'eye': 1157, 'eyeball': 1158, 'eyes': 1159, 'f': 1160, 'fabolous': 1161, 'fabricated': 1162, 'fabrics': 1163, 'face': 1164, 'faces': 1165, 'fact': 1166, 'facts': 1167, 'faculty': 1168, 'fader': 1169, 'fadin': 1170, 'fag': 1171, 'faggot': 1172, 'faggots': 1173, 'failed': 1174, 'fair': 1175, 'fake': 1176, 'fakes': 1177, 'fall': 1178, 'fallin': 1179, 'falling': 1180, 'falls': 1181, 'falopian': 1182, 'false': 1183, 'fame': 1184, 'families': 1185, 'family': 1186, 'fanatic': 1187, 'fancy': 1188, 'fans': 1189, 'far': 1190, 'fashion': 1191, 'fast': 1192, 'fasten': 1193, 'faster': 1194, 'fastin': 1195, 'fat': 1196, 'fatal': 1197, 'fateful': 1198, 'father': 1199, 'fathers': 1200, 'fear': 1201, 'fearing': 1202, 'feds': 1203, 'feed': 1204, 'feedback': 1205, 'feel': 1206, 'feelin': 1207, 'feet': 1208, 'fell': 1209, 'felt': 1210, 'ferocious': 1211, 'fertilize': 1212, 'fest': 1213, 'fetus': 1214, \"feud's\": 1215, 'few': 1216, 'fiction': 1217, 'fiend': 1218, 'fiends': 1219, 'fifth': 1220, 'fifty': 1221, 'fight': 1222, 'fighting': 1223, 'figure': 1224, 'figured': 1225, 'fill': 1226, 'filthy': 1227, 'finally': 1228, 'find': 1229, 'fine': 1230, 'finest': 1231, 'finger': 1232, 'fire': 1233, 'firing': 1234, 'firm': 1235, 'first': 1236, 'fish': 1237, 'fists': 1238, 'fitted': 1239, 'fittest': 1240, 'five': 1241, 'fives': 1242, 'fixtures': 1243, 'flack': 1244, 'flakes': 1245, 'flam': 1246, 'flamboyant': 1247, 'flame': 1248, 'flamin': 1249, 'flaming': 1250, 'flare': 1251, 'flash': 1252, 'flashback': 1253, \"flashback's\": 1254, 'flashbacks': 1255, 'flashing': 1256, 'flatten': 1257, 'flava': 1258, 'flavor': 1259, 'flavors': 1260, 'flee': 1261, 'fleet': 1262, 'flex': 1263, \"flex'll\": 1264, 'flick': 1265, 'flicks': 1266, 'flies': 1267, 'flight': 1268, 'flip': 1269, 'flippin': 1270, 'flipping': 1271, 'floating': 1272, 'flock': 1273, 'flood': 1274, 'floor': 1275, 'floors': 1276, 'floss': 1277, 'flow': 1278, 'flowers': 1279, 'flowin': 1280, 'flowing': 1281, 'fly': 1282, 'flyest': 1283, 'flyin': 1284, 'flying': 1285, 'focals': 1286, 'focusin': 1287, 'fog': 1288, 'fogging': 1289, 'fold': 1290, 'folks': 1291, 'follow': 1292, 'food': 1293, 'foods': 1294, 'fool': 1295, 'footage': 1296, 'footed': 1297, 'footprints': 1298, 'for': 1299, 'force': 1300, 'forced': 1301, 'fore': 1302, 'forehead': 1303, 'foreign': 1304, 'forensics': 1305, 'forever': 1306, 'forget': 1307, 'fork': 1308, 'form': 1309, 'formed': 1310, 'formin': 1311, 'formulatin': 1312, 'fort': 1313, 'forth': 1314, 'forty': 1315, 'foul': 1316, 'found': 1317, 'four': 1318, 'fourty': 1319, 'fracture': 1320, 'frame': 1321, 'francais': 1322, 'frantically': 1323, 'frazier': 1324, 'freak': 1325, 'freaks': 1326, 'free': 1327, 'french': 1328, 'fresh': 1329, 'friction': 1330, 'fried': 1331, 'friend': 1332, 'friends': 1333, 'fright': 1334, 'frisbees': 1335, 'from': 1336, 'front': 1337, 'frosting': 1338, 'froze': 1339, 'fruit': 1340, 'fry': 1341, 'frying': 1342, 'fu': 1343, 'fuck': 1344, \"fuck's\": 1345, 'fucked': 1346, 'fuckin': 1347, 'fucking': 1348, 'fucks': 1349, 'full': 1350, 'fulla': 1351, 'fullest': 1352, 'fully': 1353, 'fumes': 1354, 'fun': 1355, 'function': 1356, 'funk': 1357, 'funky': 1358, 'funny': 1359, 'furs': 1360, 'fuse': 1361, 'fusion': 1362, 'fuss': 1363, 'future': 1364, 'fzza': 1365, 'g': 1366, \"g's\": 1367, 'gain': 1368, 'gall': 1369, 'galvatron': 1370, 'game': 1371, 'gamma': 1372, 'gands': 1373, 'gang': 1374, 'gangbanger': 1375, 'gangs': 1376, 'gangsta': 1377, 'gangstas': 1378, 'ganja': 1379, 'gank': 1380, 'garbage': 1381, 'garde': 1382, 'garment': 1383, 'garments': 1384, 'gary': 1385, 'gas': 1386, 'gasoline': 1387, 'gat': 1388, 'gate': 1389, 'gates': 1390, 'gather': 1391, 'gathering': 1392, 'gats': 1393, 'gauge': 1394, 'gave': 1395, 'gavin': 1396, 'gear': 1397, 'geared': 1398, 'gee': 1399, 'gel': 1400, 'gems': 1401, 'general': 1402, 'generals': 1403, 'genius': 1404, 'genovese': 1405, 'gentlemen': 1406, 'gentlemens': 1407, 'gently': 1408, 'germs': 1409, 'get': 1410, 'getcha': 1411, 'gets': 1412, 'gettin': 1413, 'getting': 1414, 'ghetto': 1415, 'ghettoes': 1416, 'ghost': 1417, 'ghostface': 1418, 'ghostrider': 1419, 'giant': 1420, 'gift': 1421, 'gimme': 1422, 'ginseng': 1423, 'girl': 1424, 'girls': 1425, 'give': 1426, 'gives': 1427, 'givin': 1428, 'giving': 1429, 'gka': 1430, 'glass': 1431, 'glasses': 1432, 'glide': 1433, 'global': 1434, 'globe': 1435, 'glock': 1436, 'glocks': 1437, 'glorious': 1438, 'glory': 1439, 'glow': 1440, 'glue': 1441, 'go': 1442, 'god': 1443, 'goddamn': 1444, 'goddamnit': 1445, 'gods': 1446, 'goes': 1447, 'goin': 1448, 'going': 1449, 'gold': 1450, 'golden': 1451, 'goldie': 1452, 'gon': 1453, 'gone': 1454, 'gonna': 1455, 'gonorrhea': 1456, 'good': 1457, 'goodbye': 1458, 'goods': 1459, \"goon's\": 1460, 'goose': 1461, 'gorilla': 1462, 'gospel': 1463, 'gossip': 1464, 'got': 1465, 'gotcha': 1466, 'gotham': 1467, 'gots': 1468, 'gotta': 1469, 'gotten': 1470, \"gotti's\": 1471, 'gourmet': 1472, 'gown': 1473, 'grab': 1474, 'grabbed': 1475, 'grabs': 1476, 'graceful': 1477, 'grade': 1478, 'grain': 1479, 'grammar': 1480, 'grammy': 1481, 'grams': 1482, 'grand': 1483, 'grandfather': 1484, 'grandmaster': 1485, 'graphic': 1486, 'grateful': 1487, 'gravel': 1488, 'gray': 1489, 'grease': 1490, 'great': 1491, 'greatest': 1492, 'greats': 1493, 'green': 1494, 'greens': 1495, 'grenades': 1496, 'grew': 1497, 'grice': 1498, 'grill': 1499, 'grip': 1500, 'grippin': 1501, 'grits': 1502, 'grocery': 1503, 'groomed': 1504, 'groove': 1505, 'grope': 1506, 'ground': 1507, 'grounds': 1508, 'groupies': 1509, 'groups': 1510, 'grow': 1511, 'growin': 1512, 'guaranteed': 1513, 'guess': 1514, 'guests': 1515, 'guillotine': 1516, 'guitar': 1517, 'gum': 1518, 'gums': 1519, 'gun': 1520, 'gunner': 1521, 'gunnin': 1522, 'guns': 1523, 'guts': 1524, 'gza': 1525, 'h': 1526, 'ha': 1527, 'habitual': 1528, 'had': 1529, 'hah': 1530, 'hair': 1531, 'haircut': 1532, 'hairs': 1533, 'haley': 1534, 'half': 1535, 'hall': 1536, 'ham': 1537, 'hammer': 1538, 'hamo': 1539, 'hand': 1540, 'handcuffed': 1541, 'handed': 1542, 'handle': 1543, 'hands': 1544, 'hangin': 1545, 'happenin': 1546, 'happens': 1547, 'happily': 1548, 'harbor': 1549, 'hard': 1550, 'hardboiled': 1551, 'hardco': 1552, 'hardcore': 1553, 'harder': 1554, 'hardrock': 1555, 'hardrocks': 1556, 'hardware': 1557, 'harlem': 1558, 'harm': 1559, 'has': 1560, 'hasslin': 1561, 'hate': 1562, 'hateful': 1563, 'hating': 1564, 'hats': 1565, 'haunted': 1566, 'havana': 1567, 'have': 1568, 'havin': 1569, 'having': 1570, 'hawk': 1571, 'hawkins': 1572, 'haymon': 1573, 'hazardous': 1574, 'haze': 1575, 'he': 1576, \"he'll\": 1577, \"he's\": 1578, 'head': 1579, 'headed': 1580, 'headphones': 1581, 'headpiece': 1582, 'heads': 1583, 'hear': 1584, 'heard': 1585, 'hearing': 1586, 'hearse': 1587, 'heart': 1588, 'heartaches': 1589, 'hearts': 1590, 'heat': 1591, 'heaven': 1592, 'heavens': 1593, 'heavy': 1594, 'hectic': 1595, 'heed': 1596, 'heh': 1597, 'heist': 1598, 'held': 1599, 'helen': 1600, 'hell': 1601, 'hella': 1602, 'help': 1603, 'helpless': 1604, 'hennessee': 1605, 'her': 1606, 'herb': 1607, 'here': 1608, \"here's\": 1609, 'hero': 1610, 'heroin': 1611, 'hesitation': 1612, 'hex': 1613, 'hey': 1614, 'heyday': 1615, 'hide': 1616, 'high': 1617, 'higher': 1618, 'highness': 1619, 'highs': 1620, 'hill': 1621, 'hillbilly': 1622, 'him': 1623, 'hip': 1624, 'hipsters': 1625, 'his': 1626, 'hit': 1627, 'hits': 1628, 'hittin': 1629, 'hmm': 1630, 'ho': 1631, 'hoe': 1632, 'hoes': 1633, 'hold': 1634, 'holder': 1635, 'holdin': 1636, 'holding': 1637, 'hole': 1638, 'holla': 1639, 'hollow': 1640, 'hollows': 1641, 'holy': 1642, 'homage': 1643, 'home': 1644, 'hometown': 1645, 'homicide': 1646, \"homicide's\": 1647, 'homie': 1648, 'homos': 1649, 'hon': 1650, 'honey': 1651, 'hood': 1652, 'hooded': 1653, 'hoods': 1654, 'hook': 1655, 'hop': 1656, 'hope': 1657, 'hopes': 1658, 'hopin': 1659, 'hoping': 1660, 'horse': 1661, 'hostile': 1662, 'hot': 1663, 'hotter': 1664, 'hottest': 1665, 'hour': 1666, 'house': 1667, 'housing': 1668, 'hover': 1669, 'how': 1670, 'howard': 1671, 'however': 1672, 'hudson': 1673, 'huff': 1674, 'huggin': 1675, 'huh': 1676, 'humidity': 1677, 'humiliate': 1678, 'hummin': 1679, 'hump': 1680, 'humped': 1681, 'humpty': 1682, 'hun': 1683, 'hundred': 1684, 'hundreds': 1685, 'hungry': 1686, 'hunter': 1687, 'hunting': 1688, 'hurt': 1689, 'hussein': 1690, 'hustler': 1691, 'hut': 1692, 'hy': 1693, 'hyah': 1694, 'hydro': 1695, 'hyenas': 1696, 'hype': 1697, 'hyper': 1698, 'hypotheses': 1699, 'hyyyy': 1700, 'i': 1701, \"i'd\": 1702, \"i'll\": 1703, \"i'm\": 1704, \"i'ma\": 1705, \"i'mma\": 1706, \"i's\": 1707, 'iate': 1708, 'ice': 1709, 'idea': 1710, 'idiot': 1711, 'if': 1712, 'ig': 1713, 'ignited': 1714, 'ignorant': 1715, 'ignore': 1716, 'iii': 1717, 'ill': 1718, 'illa': 1719, 'illegal': 1720, 'iller': 1721, 'illuminati': 1722, 'imagine': 1723, 'imma': 1724, 'immensely': 1725, 'immigrants': 1726, 'immortal': 1727, 'immune': 1728, \"impact'll\": 1729, 'impaired': 1730, 'impossible': 1731, 'impulse': 1732, 'impulsive': 1733, 'in': 1734, 'incarceration': 1735, 'incas': 1736, 'incite': 1737, 'incorp': 1738, 'increase': 1739, 'increasin': 1740, 'incredible': 1741, 'indian': 1742, 'indicates': 1743, 'individual': 1744, 'indivisible': 1745, 'industry': 1746, 'ingenuity': 1747, 'iniquity': 1748, 'injections': 1749, 'ink': 1750, 'innauguration': 1751, 'inning': 1752, 'innocent': 1753, 'ins': 1754, 'insane': 1755, 'inside': 1756, 'inspect': 1757, 'inspecta': 1758, 'inspectah': 1759, 'inspector': 1760, 'inspired': 1761, 'instead': 1762, 'instinct': 1763, 'intact': 1764, 'intelligence': 1765, 'intelligent': 1766, 'intensity': 1767, 'intercourse': 1768, 'interlock': 1769, 'interlude': 1770, 'internal': 1771, 'into': 1772, 'intrigued': 1773, 'intro': 1774, 'invent': 1775, 'invincible': 1776, 'irief': 1777, 'iron': 1778, 'irrelevant': 1779, 'is': 1780, 'island': 1781, 'isle': 1782, 'it': 1783, \"it's\": 1784, 'italians': 1785, 'itch': 1786, 'j': 1787, 'jabbed': 1788, 'jack': 1789, 'jacket': 1790, 'jackets': 1791, 'jackie': 1792, 'jacks': 1793, 'jacques': 1794, 'jah': 1795, 'jail': 1796, 'jailhouse': 1797, 'jakes': 1798, 'jam': 1799, 'jamel': 1800, 'james': 1801, 'jamie': 1802, 'jammies': 1803, 'january': 1804, 'jason': 1805, 'jaw': 1806, 'jean': 1807, \"jean's\": 1808, 'jeans': 1809, 'jeeps': 1810, 'jeff': 1811, 'jersey': 1812, 'jesse': 1813, 'jesus': 1814, 'jetted': 1815, 'jettin': 1816, 'jewels': 1817, 'jheri': 1818, 'jif': 1819, 'jig': 1820, 'jiggy': 1821, 'jim': 1822, 'jive': 1823, 'jizm': 1824, 'joe': 1825, \"joe's\": 1826, 'john': 1827, 'johnny': 1828, 'joint': 1829, 'joke': 1830, 'joker': 1831, 'jokes': 1832, 'joking': 1833, 'jones': 1834, 'jooks': 1835, 'jork': 1836, 'joy': 1837, 'joyner': 1838, 'juan': 1839, 'judgement': 1840, 'judgment': 1841, 'juice': 1842, 'jump': 1843, 'jumped': 1844, 'jumper': 1845, 'jungle': 1846, 'junkie': 1847, 'just': 1848, 'justice': 1849, 'justifies': 1850, 'k': 1851, 'kaboom': 1852, 'kah': 1853, 'kangols': 1854, 'kase': 1855, 'keeba': 1856, 'keep': 1857, 'kelly': 1858, 'kemit': 1859, 'kersee': 1860, 'ketchup': 1861, 'key': 1862, 'keyboard': 1863, 'keys': 1864, 'kiana': 1865, 'kick': 1866, 'kicked': 1867, 'kickin': 1868, 'kid': 1869, 'kids': 1870, 'kill': 1871, 'killa': 1872, 'killah': 1873, 'killas': 1874, 'killed': 1875, 'killer': 1876, 'killers': 1877, 'killin': 1878, 'killing': 1879, 'kind': 1880, 'king': 1881, 'kings': 1882, 'kinko': 1883, 'kiss': 1884, 'kissed': 1885, 'kitchen': 1886, 'knahmsayin': 1887, 'knew': 1888, 'knight': 1889, 'knock': 1890, 'knocked': 1891, 'knot': 1892, 'knots': 1893, 'know': 1894, \"knowhati'msayin\": 1895, 'knowin': 1896, 'known': 1897, 'knox': 1898, 'kombat': 1899, 'kringle': 1900, 'kris': 1901, 'kung': 1902, 'l': 1903, 'la': 1904, 'lab': 1905, 'labelle': 1906, 'labels': 1907, 'laced': 1908, 'lack': 1909, 'lacks': 1910, 'lacy': 1911, 'ladies': 1912, 'lady': 1913, 'lah': 1914, 'lahrule': 1915, 'laid': 1916, 'lair': 1917, 'lake': 1918, 'lamont': 1919, 'lamp': 1920, 'lampin': 1921, 'land': 1922, 'landcruisers': 1923, 'lands': 1924, 'lane': 1925, 'language': 1926, 'large': 1927, 'las': 1928, 'last': 1929, 'late': 1930, 'latter': 1931, 'laughin': 1932, 'laughing': 1933, 'laughter': 1934, 'lavon': 1935, 'law': 1936, 'laws': 1937, 'layaway': 1938, 'layin': 1939, 'lazy': 1940, 'lead': 1941, 'leaf': 1942, 'leaks': 1943, 'lean': 1944, 'learn': 1945, 'learned': 1946, 'least': 1947, 'leather': 1948, 'leave': 1949, 'leaves': 1950, \"lee's\": 1951, 'left': 1952, 'leg': 1953, 'legal': 1954, 'legend': 1955, 'less': 1956, 'lesser': 1957, 'lessons': 1958, 'lester': 1959, 'let': 1960, \"let's\": 1961, 'lethal': 1962, 'level': 1963, 'levitate': 1964, 'lex': 1965, 'lexus': 1966, 'liars': 1967, 'lickin': 1968, 'licks': 1969, 'lied': 1970, 'lies': 1971, 'life': 1972, 'lift': 1973, 'lifted': 1974, 'light': 1975, 'lighting': 1976, 'lightly': 1977, 'lights': 1978, 'lighty': 1979, 'like': 1980, 'lime': 1981, 'limitations': 1982, 'limited': 1983, 'line': 1984, 'linebacker': 1985, 'lined': 1986, 'linen': 1987, 'lines': 1988, 'link': 1989, 'lip': 1990, 'lips': 1991, 'liquor': 1992, 'listen': 1993, 'liston': 1994, 'lit': 1995, 'literate': 1996, 'little': 1997, 'live': 1998, 'liver': 1999, 'lives': 2000, 'livin': 2001, 'living': 2002, 'lizard': 2003, 'lo': 2004, 'loaded': 2005, 'locate': 2006, 'locations': 2007, 'lock': 2008, 'locked': 2009, 'loco': 2010, 'logic': 2011, 'logical': 2012, 'lone': 2013, 'loner': 2014, 'long': 2015, 'look': 2016, 'looked': 2017, 'lookin': 2018, 'looking': 2019, 'looks': 2020, 'loop': 2021, 'loops': 2022, 'loosen': 2023, 'loot': 2024, 'lord': 2025, 'lords': 2026, 'lose': 2027, 'losers': 2028, 'lost': 2029, 'lotion': 2030, 'lottery': 2031, 'lou': 2032, 'loud': 2033, 'lough': 2034, 'lounge': 2035, 'loungin': 2036, 'love': 2037, 'lovely': 2038, 'lovin': 2039, 'low': 2040, 'lower': 2041, 'lp': 2042, \"lp's\": 2043, 'luck': 2044, 'lumps': 2045, 'lunch': 2046, 'lung': 2047, 'ly': 2048, 'lyin': 2049, 'lying': 2050, \"lynch's\": 2051, 'lyrical': 2052, 'lyrically': 2053, 'lyrics': 2054, 'm': 2055, 'mabel': 2056, 'mac': 2057, 'machine': 2058, 'mack': 2059, 'macs': 2060, \"macy's\": 2061, 'mad': 2062, 'made': 2063, 'madman': 2064, 'magic': 2065, 'magnetic': 2066, 'main': 2067, 'maintain': 2068, 'major': 2069, 'majors': 2070, 'make': 2071, 'makes': 2072, 'makin': 2073, 'making': 2074, 'man': 2075, \"man's\": 2076, 'manage': 2077, 'manhattan': 2078, 'manifestation': 2079, 'manilla': 2080, 'mankind': 2081, 'mantis': 2082, 'manufacture': 2083, 'many': 2084, 'margin': 2085, 'mariah': 2086, 'marker': 2087, 'marksman': 2088, 'marley': 2089, 'martini': 2090, 'maryland': 2091, 'mask': 2092, 'masses': 2093, 'masta': 2094, 'master': 2095, 'masterbate': 2096, 'mastered': 2097, 'mastery': 2098, 'match': 2099, 'matches': 2100, 'matching': 2101, 'material': 2102, 'math': 2103, 'mathematically': 2104, 'matter': 2105, 'maverick': 2106, 'max': 2107, 'maxed': 2108, 'may': 2109, 'maybe': 2110, 'maybelline': 2111, 'mayday': 2112, 'mays': 2113, 'mb': 2114, 'mc': 2115, \"mc's\": 2116, 'mcdaniels': 2117, 'mckenzie': 2118, 'mclovin': 2119, 'md': 2120, 'me': 2121, 'mean': 2122, 'meaning': 2123, 'means': 2124, 'medallions': 2125, 'media': 2126, 'medical': 2127, 'medicinal': 2128, 'medina': 2129, 'mediterranean': 2130, 'medusa': 2131, 'meeeee': 2132, 'mega': 2133, 'megahertz': 2134, 'melanin': 2135, 'mellow': 2136, 'melodic': 2137, 'melody': 2138, 'melt': 2139, 'meltin': 2140, 'melting': 2141, 'memories': 2142, 'men': 2143, 'mental': 2144, 'mentally': 2145, 'merchandise': 2146, 'merci': 2147, 'merciless': 2148, 'mess': 2149, 'messed': 2150, 'messenger': 2151, 'messy': 2152, 'met': 2153, 'metal': 2154, 'metallic': 2155, 'metals': 2156, 'metaphorical': 2157, 'metaphysical': 2158, 'meter': 2159, 'meth': 2160, 'method': 2161, 'metro': 2162, 'mi': 2163, 'mic': 2164, 'micpiece': 2165, 'microbes': 2166, 'microchips': 2167, 'microphone': 2168, \"microphone's\": 2169, 'microphones': 2170, 'midsection': 2171, 'might': 2172, 'mike': 2173, 'mil': 2174, 'miles': 2175, 'militant': 2176, 'military': 2177, 'militia': 2178, 'milk': 2179, 'milkin': 2180, 'millenium': 2181, 'milli': 2182, 'million': 2183, 'millions': 2184, 'mind': 2185, 'minds': 2186, 'mindstate': 2187, 'mine': 2188, 'mineral': 2189, 'minerals': 2190, 'mines': 2191, 'mink': 2192, 'minor': 2193, 'minute': 2194, 'minutes': 2195, 'miracle': 2196, 'miserable': 2197, 'miss': 2198, 'misses': 2199, 'missin': 2200, 'missions': 2201, 'missles': 2202, 'misuse': 2203, 'mixed': 2204, 'mixtures': 2205, 'mizola': 2206, 'mo': 2207, 'mob': 2208, 'mobber': 2209, 'mockeries': 2210, 'mocks': 2211, 'models': 2212, 'moe': 2213, 'molecule': 2214, 'molest': 2215, 'mom': 2216, 'momma': 2217, 'moms': 2218, 'mon': 2219, 'money': 2220, \"money's\": 2221, 'monica': 2222, 'monk': 2223, 'monks': 2224, 'monopoly': 2225, 'month': 2226, 'monumental': 2227, 'moon': 2228, 'moons': 2229, 'moonshine': 2230, 'mordigan': 2231, 'more': 2232, 'morgan': 2233, 'morning': 2234, 'mortal': 2235, 'mosh': 2236, 'most': 2237, 'mostly': 2238, 'motha': 2239, 'mother': 2240, \"mother's\": 2241, 'motherfucker': 2242, 'motherfuckers': 2243, 'motherfuckin': 2244, 'motherfucking': 2245, 'motion': 2246, 'motown': 2247, 'mountain': 2248, 'mountains': 2249, 'mouth': 2250, 'mouths': 2251, 'move': 2252, 'moved': 2253, 'moves': 2254, 'movin': 2255, 'moving': 2256, \"mpv's\": 2257, 'mr': 2258, 'much': 2259, 'mud': 2260, 'mudhole': 2261, 'mugs': 2262, 'multiple': 2263, 'mumble': 2264, 'mural': 2265, 'murder': 2266, 'murdered': 2267, 'murderin': 2268, 'murderous': 2269, 'murders': 2270, 'mushrooms': 2271, 'music': 2272, 'musk': 2273, 'must': 2274, 'muthafuckas': 2275, 'muthafuckin': 2276, 'my': 2277, 'myself': 2278, 'mystery': 2279, 'mza': 2280, 'n': 2281, 'na': 2282, 'nae': 2283, 'nah': 2284, 'nahhh': 2285, 'nails': 2286, 'naked': 2287, 'name': 2288, 'named': 2289, 'names': 2290, 'napoleon': 2291, 'narrating': 2292, 'narrow': 2293, 'nasty': 2294, 'nat': 2295, 'nation': 2296, 'nations': 2297, 'natural': 2298, 'navarone': 2299, 'navarrone': 2300, 'navel': 2301, 'navy': 2302, 'naysayer': 2303, 'near': 2304, 'nearly': 2305, 'neccessarily': 2306, 'neck': 2307, 'need': 2308, 'needle': 2309, 'needles': 2310, 'needs': 2311, 'neglected': 2312, 'neighborhood': 2313, 'nephew': 2314, 'nerve': 2315, 'nerves': 2316, 'nervous': 2317, 'never': 2318, 'new': 2319, 'news': 2320, 'next': 2321, 'nicaragua': 2322, 'nice': 2323, 'nickel': 2324, 'nickle': 2325, 'nigga': 2326, 'niggarettes': 2327, 'niggas': 2328, 'niggaz': 2329, 'nigguh': 2330, 'night': 2331, 'nightrain': 2332, 'nikks': 2333, 'nimrod': 2334, 'nina': 2335, 'nine': 2336, 'nineteen': 2337, 'ninety': 2338, 'ninja': 2339, 'ninjas': 2340, 'nitrogen': 2341, 'nixon': 2342, 'nizzuh': 2343, 'no': 2344, 'noble': 2345, 'nobody': 2346, 'noise': 2347, 'nolan': 2348, 'non': 2349, 'none': 2350, 'nonsense': 2351, 'noose': 2352, 'noplace': 2353, 'north': 2354, 'nose': 2355, 'nostra': 2356, 'not': 2357, 'notarizer': 2358, 'notch': 2359, 'note': 2360, 'notes': 2361, 'nothin': 2362, 'nothing': 2363, 'notice': 2364, 'notorious': 2365, 'notty': 2366, 'novation': 2367, 'novel': 2368, 'november': 2369, 'now': 2370, \"now's\": 2371, 'nowhere': 2372, 'nozzle': 2373, 'nuff': 2374, 'numb': 2375, 'number': 2376, 'nurse': 2377, 'nut': 2378, 'nuthing': 2379, 'nuts': 2380, 'nuttin': 2381, 'nutty': 2382, 'nzza': 2383, 'o': 2384, \"o'carroll\": 2385, \"o'clock\": 2386, 'oak': 2387, 'observe': 2388, 'obstacle': 2389, 'occupation': 2390, 'ocean': 2391, 'odd': 2392, 'odds': 2393, 'of': 2394, 'off': 2395, 'officer': 2396, 'often': 2397, 'oh': 2398, 'ohh': 2399, 'ohio': 2400, 'oil': 2401, 'okay': 2402, 'okie': 2403, 'ol': 2404, 'old': 2405, 'olympic': 2406, 'on': 2407, 'once': 2408, 'one': 2409, 'ones': 2410, 'online': 2411, 'only': 2412, 'ooh': 2413, 'oops': 2414, 'open': 2415, 'opened': 2416, 'opposed': 2417, 'or': 2418, 'orange': 2419, 'orchestra': 2420, 'order': 2421, 'oregon': 2422, 'orgasm': 2423, 'original': 2424, 'osiris': 2425, 'osirus': 2426, 'other': 2427, 'ought': 2428, 'oui': 2429, 'ounce': 2430, 'our': 2431, 'out': 2432, 'outcome': 2433, 'outfits': 2434, 'outlaw': 2435, 'outlined': 2436, 'outro': 2437, 'outside': 2438, 'outta': 2439, 'ovary': 2440, 'oven': 2441, 'over': 2442, 'overcome': 2443, 'overdose': 2444, 'overdosin': 2445, 'overthrow': 2446, 'overwhelmin': 2447, 'ow': 2448, 'owed': 2449, 'owens': 2450, 'owl': 2451, 'owls': 2452, 'own': 2453, 'oww': 2454, 'ox': 2455, 'oxycontin': 2456, 'p': 2457, 'pablo': 2458, 'pacin': 2459, 'pack': 2460, 'packed': 2461, 'packs': 2462, 'pacquiao': 2463, 'pad': 2464, 'page': 2465, 'paid': 2466, 'pain': 2467, 'painful': 2468, 'paint': 2469, 'painted': 2470, 'pair': 2471, 'pakistan': 2472, 'pal': 2473, 'palace': 2474, 'pale': 2475, 'palm': 2476, 'palmetto': 2477, 'palms': 2478, 'pan': 2479, 'panels': 2480, 'panic': 2481, 'panty': 2482, 'papayas': 2483, 'paper': 2484, 'papi': 2485, 'parables': 2486, 'paragraphs': 2487, 'paralyzin': 2488, 'paranoia': 2489, 'pardon': 2490, 'park': 2491, 'parley': 2492, 'parlez': 2493, 'part': 2494, 'particle': 2495, 'particular': 2496, 'party': 2497, 'pass': 2498, 'passed': 2499, 'passin': 2500, 'past': 2501, 'pathmark': 2502, 'patient': 2503, 'patrolmen': 2504, 'patti': 2505, 'pattin': 2506, 'patty': 2507, 'pauper': 2508, 'paw': 2509, 'pawn': 2510, 'pay': 2511, 'payday': 2512, 'pcp': 2513, 'peace': 2514, 'peanut': 2515, 'pecan': 2516, 'peel': 2517, 'peep': 2518, 'peeps': 2519, 'pen': 2520, 'penalties': 2521, 'penalty': 2522, 'pencil': 2523, 'people': 2524, 'peoples': 2525, 'per': 2526, 'percent': 2527, 'perfect': 2528, 'perform': 2529, 'performin': 2530, 'perm': 2531, 'permission': 2532, 'perp': 2533, 'perpendicular': 2534, 'persian': 2535, 'persuasive': 2536, 'perversions': 2537, 'pestilence': 2538, 'pete': 2539, 'peter': 2540, 'phaser': 2541, 'phat': 2542, 'philosophies': 2543, 'phone': 2544, 'phony': 2545, 'photogenic': 2546, 'photon': 2547, 'physical': 2548, 'physique': 2549, 'pic': 2550, 'pick': 2551, 'picked': 2552, 'pickens': 2553, 'pickup': 2554, 'picture': 2555, 'pictures': 2556, 'pie': 2557, 'piece': 2558, 'pierced': 2559, 'pill': 2560, 'pimp': 2561, 'pink': 2562, 'pins': 2563, 'piped': 2564, 'pirahna': 2565, 'pirates': 2566, 'piss': 2567, 'pistol': 2568, 'pit': 2569, 'pitch': 2570, 'pivotal': 2571, 'place': 2572, 'plague': 2573, 'plain': 2574, 'plan': 2575, 'plane': 2576, 'planetary': 2577, 'planets': 2578, 'planned': 2579, 'plans': 2580, 'plant': 2581, 'plaques': 2582, 'plaster': 2583, 'plate': 2584, 'plated': 2585, 'plateful': 2586, 'plates': 2587, 'platinum': 2588, 'play': 2589, 'played': 2590, 'player': 2591, 'playin': 2592, 'playing': 2593, 'playiyay': 2594, 'plays': 2595, 'please': 2596, 'plenty': 2597, 'plo': 2598, 'plug': 2599, 'plural': 2600, 'plus': 2601, 'po': 2602, 'pocket': 2603, 'pockets': 2604, 'poems': 2605, 'poetry': 2606, \"poetry's\": 2607, 'point': 2608, 'pointed': 2609, 'points': 2610, 'pointy': 2611, 'poison': 2612, 'pole': 2613, 'police': 2614, 'politic': 2615, 'politics': 2616, 'pollyin': 2617, 'polo': 2618, 'poly': 2619, 'pop': 2620, 'poppin': 2621, 'pops': 2622, 'populace': 2623, 'population': 2624, 'porno': 2625, 'pose': 2626, 'position': 2627, 'posse': 2628, 'possibly': 2629, 'post': 2630, 'postage': 2631, 'pot': 2632, 'potion': 2633, 'pound': 2634, 'pounds': 2635, 'pour': 2636, 'pow': 2637, 'powder': 2638, 'power': 2639, 'powered': 2640, 'practice': 2641, 'praise': 2642, 'praising': 2643, 'pre': 2644, 'prepare': 2645, 'presidents': 2646, 'pressed': 2647, 'pressure': 2648, 'pretender': 2649, 'price': 2650, 'prince': 2651, 'principles': 2652, 'prism': 2653, 'prison': 2654, 'probably': 2655, 'probation': 2656, 'probes': 2657, 'problem': 2658, 'problems': 2659, 'proceeds': 2660, 'proclamation': 2661, 'produce': 2662, 'product': 2663, 'production': 2664, 'profile': 2665, 'program': 2666, 'project': 2667, 'projects': 2668, 'prolific': 2669, 'pronounce': 2670, 'pronounced': 2671, 'pronounciate': 2672, 'proof': 2673, 'propels': 2674, 'properly': 2675, 'prophecies': 2676, 'proposal': 2677, 'props': 2678, 'pros': 2679, 'protect': 2680, 'provided': 2681, 'provoke': 2682, 'psych': 2683, 'psycho': 2684, 'published': 2685, 'puerto': 2686, 'puff': 2687, 'puffin': 2688, 'pull': 2689, 'pulled': 2690, 'pullin': 2691, 'pulls': 2692, 'pumas': 2693, 'pump': 2694, 'pumped': 2695, 'pumpin': 2696, 'pumping': 2697, 'punch': 2698, 'punk': 2699, 'punks': 2700, 'purchase': 2701, 'pure': 2702, 'purple': 2703, 'push': 2704, 'pushin': 2705, 'pussy': 2706, 'put': 2707, 'puts': 2708, 'puttin': 2709, 'putty': 2710, 'quake': 2711, 'quarter': 2712, 'quarterbacks': 2713, 'quartz': 2714, 'queen': 2715, 'queens': 2716, 'question': 2717, 'quick': 2718, 'quickness': 2719, 'quiet': 2720, 'quietly': 2721, 'quit': 2722, 'quotes': 2723, 'r': 2724, 'ra': 2725, 'race': 2726, 'races': 2727, 'rack': 2728, 'radio': 2729, 'rae': 2730, 'raekwon': 2731, 'rag': 2732, 'rage': 2733, 'rah': 2734, 'rahh': 2735, 'raid': 2736, 'raider': 2737, 'rain': 2738, 'raincoat': 2739, 'raised': 2740, 'raiser': 2741, 'raisin': 2742, 'rakeem': 2743, 'ram': 2744, 'ramshack': 2745, 'ran': 2746, 'range': 2747, 'ranger': 2748, 'ransom': 2749, 'rap': 2750, 'rape': 2751, 'raphael': 2752, 'rapidly': 2753, 'rapper': 2754, 'rappers': 2755, 'rappinin': 2756, 'raps': 2757, 'rapture': 2758, 'ratchet': 2759, 'rates': 2760, 'rather': 2761, 'raw': 2762, 'ray': 2763, 'razor': 2764, 're': 2765, 'react': 2766, 'read': 2767, 'ready': 2768, 'reagan': 2769, 'real': 2770, 'really': 2771, 'reason': 2772, 'reasoning': 2773, 'rebel': 2774, 'rebels': 2775, 'received': 2776, 'receivin': 2777, 'recipients': 2778, 'reck': 2779, 'recognized': 2780, 'reconstruction': 2781, 'record': 2782, 'recruits': 2783, 'red': 2784, 'redman': 2785, 'redrum': 2786, 'reflecting': 2787, 'refuted': 2788, 'regardless': 2789, 'register': 2790, 'reigns': 2791, 'reimburse': 2792, 'relating': 2793, 'relax': 2794, 'relaxed': 2795, 'relay': 2796, 'relentless': 2797, 'reluct': 2798, 'remain': 2799, 'remedy': 2800, 'remember': 2801, 'remembered': 2802, 'reminisce': 2803, 'renders': 2804, 'renegged': 2805, 'rep': 2806, 'repeat': 2807, 'report': 2808, 'reppin': 2809, 'represent': 2810, 'representin': 2811, 'representing': 2812, 'repressment': 2813, 'resigning': 2814, 'respect': 2815, 'respects': 2816, 'rest': 2817, 'return': 2818, 'reunited': 2819, 'rev': 2820, 'revenge': 2821, 'reverend': 2822, 'reynolds': 2823, 'rhyme': 2824, 'rhymes': 2825, 'rhymin': 2826, 'rhythm': 2827, 'ricans': 2828, 'rich': 2829, 'richard': 2830, 'richter': 2831, 'rico': 2832, 'rid': 2833, 'riddler': 2834, 'ride': 2835, 'riders': 2836, 'rief': 2837, 'rifles': 2838, 'right': 2839, 'righteous': 2840, 'rightous': 2841, 'ring': 2842, 'rings': 2843, 'riots': 2844, 'rip': 2845, 'ripken': 2846, 'ripped': 2847, 'rips': 2848, 'rise': 2849, 'riser': 2850, 'rises': 2851, 'rituals': 2852, 'road': 2853, 'roast': 2854, 'robbed': 2855, 'robbers': 2856, 'robbery': 2857, 'robbin': 2858, 'robert': 2859, 'roberta': 2860, 'robes': 2861, 'robinson': 2862, 'robotic': 2863, 'rock': 2864, 'rocked': 2865, 'rocket': 2866, 'rockin': 2867, 'rocks': 2868, 'rod': 2869, 'roll': 2870, 'rollin': 2871, 'rolling': 2872, 'rollo': 2873, 'rom': 2874, 'roman': 2875, 'room': 2876, 'root': 2877, 'rope': 2878, 'ropes': 2879, 'rotary': 2880, 'rotates': 2881, 'rotating': 2882, \"rothsdale's\": 2883, 'rotten': 2884, 'rough': 2885, 'roughneck': 2886, 'roughness': 2887, 'roulette': 2888, 'round': 2889, 'route': 2890, 'routine': 2891, 'rovers': 2892, 'roxanne': 2893, 'royal': 2894, 'rub': 2895, 'rubbed': 2896, 'rubber': 2897, 'rubs': 2898, 'ruby': 2899, 'rucker': 2900, 'ruckus': 2901, 'rude': 2902, 'rudeness': 2903, 'ruff': 2904, 'rugged': 2905, 'rule': 2906, 'ruler': 2907, 'rules': 2908, 'rum': 2909, 'rumble': 2910, 'rumblein': 2911, 'rumps': 2912, 'run': 2913, 'runaway': 2914, 'runnin': 2915, 'running': 2916, 'rush': 2917, 'rushing': 2918, 'russell': 2919, 'russian': 2920, 'ruthless': 2921, 'ryan': 2922, 'rza': 2923, 's': 2924, 'saadiq': 2925, 'sack': 2926, 'sacks': 2927, 'saddam': 2928, 'sade': 2929, 'safe': 2930, 'saga': 2931, 'said': 2932, 'sake': 2933, 'salamander': 2934, 'sales': 2935, 'salt': 2936, 'salute': 2937, 'sam': 2938, 'same': 2939, 'sample': 2940, 'sampras': 2941, 'samurah': 2942, 'san': 2943, 'sand': 2944, 'sanitary': 2945, 'santa': 2946, 'saran': 2947, 'sargeant': 2948, 'satan': 2949, 'sauce': 2950, 'sautee': 2951, 'save': 2952, 'savior': 2953, 'saw': 2954, 'say': 2955, 'sayin': 2956, 'saying': 2957, 'says': 2958, 'scandalous': 2959, 'scared': 2960, 'scarred': 2961, 'scars': 2962, 'scattin': 2963, 'scene': 2964, 'scholars': 2965, 'school': 2966, 'schwarzenegger': 2967, 'science': 2968, 'scissors': 2969, 'scooby': 2970, 'scooped': 2971, 'score': 2972, 'scrape': 2973, 'scream': 2974, 'screamin': 2975, 'screams': 2976, 'screenshots': 2977, 'screwed': 2978, 'script': 2979, 'scripting': 2980, 'scriptures': 2981, 'scrod': 2982, 'scrub': 2983, 'scuffle': 2984, 'scum': 2985, 'sea': 2986, 'seafood': 2987, 'seahawks': 2988, 'seal': 2989, 'search': 2990, 'searched': 2991, 'seas': 2992, 'season': 2993, 'seasoning': 2994, 'seats': 2995, 'sec': 2996, 'second': 2997, 'section': 2998, 'sections': 2999, 'seducer': 3000, 'see': 3001, 'seed': 3002, \"seed'll\": 3003, 'seeds': 3004, 'seein': 3005, 'seek': 3006, 'seem': 3007, 'seemed': 3008, 'seems': 3009, 'seen': 3010, 'segall': 3011, 'seize': 3012, 'select': 3013, 'self': 3014, 'sell': 3015, 'sellin': 3016, 'selling': 3017, 'semi': 3018, 'send': 3019, 'sense': 3020, 'sent': 3021, 'separate': 3022, 'serial': 3023, 'serious': 3024, 'serve': 3025, 'service': 3026, 'sess': 3027, 'set': 3028, 'sets': 3029, 'settlement': 3030, 'settlin': 3031, 'seven': 3032, 'seventy': 3033, 'sever': 3034, 'severing': 3035, 'sew': 3036, 'sex': 3037, 'sexual': 3038, 'sexy': 3039, 'shabazz': 3040, 'shackle': 3041, 'shacklin': 3042, 'shackling': 3043, 'shade': 3044, 'shades': 3045, 'shadowbox': 3046, 'shadowboxing': 3047, 'shadows': 3048, 'shae': 3049, 'shai': 3050, 'shake': 3051, 'shakin': 3052, 'shaking': 3053, 'shalamar': 3054, 'shame': 3055, 'shank': 3056, 'shaolin': 3057, \"shaolin's\": 3058, 'shape': 3059, 'shapes': 3060, 'shaquan': 3061, 'share': 3062, 'shark': 3063, 'sharp': 3064, 'sharpness': 3065, 'shatterproof': 3066, 'she': 3067, \"she'll\": 3068, \"she's\": 3069, 'sheisty': 3070, 'shell': 3071, 'shells': 3072, 'shelter': 3073, 'shh': 3074, 'shield': 3075, 'shine': 3076, 'shining': 3077, 'shinobi': 3078, 'shiny': 3079, 'ship': 3080, 'shirley': 3081, 'shit': 3082, \"shit'll\": 3083, 'shits': 3084, 'shitty': 3085, 'shock': 3086, 'shoe': 3087, 'shoes': 3088, 'shogun': 3089, 'shoot': 3090, 'shooter': 3091, 'shooters': 3092, 'shootin': 3093, 'shop': 3094, 'shoppin': 3095, 'short': 3096, 'shortae': 3097, 'shorty': 3098, \"shorty's\": 3099, 'shot': 3100, 'shots': 3101, 'should': 3102, 'shoulder': 3103, 'shoulders': 3104, \"shouldn't\": 3105, 'shout': 3106, 'show': 3107, 'showcase': 3108, 'showing': 3109, 'shows': 3110, 'shrinking': 3111, 'shrunk': 3112, 'shut': 3113, 'shymeek': 3114, 'sicily': 3115, 'sick': 3116, 'sickening': 3117, 'sickest': 3118, 'sickness': 3119, 'side': 3120, 'sight': 3121, 'signin': 3122, 'similar': 3123, 'simple': 3124, 'sin': 3125, 'sinatra': 3126, 'since': 3127, 'sing': 3128, 'singing': 3129, 'single': 3130, 'sinkbox': 3131, 'sinking': 3132, 'sippin': 3133, 'sipping': 3134, 'sir': 3135, 'sire': 3136, 'sister': 3137, 'sisters': 3138, 'sit': 3139, 'site': 3140, 'six': 3141, 'sixteen': 3142, 'sixth': 3143, 'sixty': 3144, 'size': 3145, 'sketch': 3146, 'ski': 3147, 'skill': 3148, 'skills': 3149, 'skin': 3150, 'skins': 3151, 'skipperys': 3152, 'skippy': 3153, 'skunk': 3154, 'sky': 3155, 'slack': 3156, 'slam': 3157, 'slammin': 3158, 'slamming': 3159, 'slang': 3160, \"slang'll\": 3161, 'slap': 3162, 'slapped': 3163, 'slash': 3164, 'slasher': 3165, 'slave': 3166, 'slaveman': 3167, 'slay': 3168, 'slayed': 3169, 'slayin': 3170, 'sleep': 3171, 'sleepy': 3172, 'sleeves': 3173, 'slice': 3174, 'slicin': 3175, 'slick': 3176, 'slide': 3177, 'sliders': 3178, 'sliding': 3179, 'slim': 3180, 'slip': 3181, 'slips': 3182, 'slit': 3183, 'sloan': 3184, 'sloans': 3185, 'sloop': 3186, 'slow': 3187, 'slowly': 3188, 'slug': 3189, 'slugs': 3190, 'slum': 3191, 'slums': 3192, 'smack': 3193, 'small': 3194, 'smashed': 3195, 'smell': 3196, 'smellin': 3197, 'smile': 3198, 'smith': 3199, 'smoke': 3200, 'smoked': 3201, 'smokers': 3202, 'smokey': 3203, 'smokin': 3204, 'smoking': 3205, 'smoother': 3206, 'snail': 3207, 'snake': 3208, 'snakes': 3209, 'snap': 3210, 'snare': 3211, 'snatch': 3212, 'snatched': 3213, 'sneak': 3214, 'sneaks': 3215, 'sniff': 3216, 'sniffing': 3217, 'sniper': 3218, 'snitch': 3219, 'snort': 3220, 'snorting': 3221, 'snow': 3222, 'snowflakes': 3223, 'snowing': 3224, 'snowy': 3225, 'so': 3226, 'soap': 3227, 'sober': 3228, 'society': 3229, 'sock': 3230, 'sockets': 3231, 'socks': 3232, 'socrates': 3233, 'soda': 3234, 'soft': 3235, 'solar': 3236, 'sold': 3237, 'soldier': 3238, 'soldiers': 3239, 'solid': 3240, 'solitary': 3241, 'some': 3242, 'somebody': 3243, 'somethin': 3244, 'something': 3245, 'son': 3246, 'song': 3247, 'songs': 3248, 'songwriters': 3249, 'sonny': 3250, 'soon': 3251, 'sorceress': 3252, 'souflee': 3253, 'soul': 3254, 'soulful': 3255, 'soulmates': 3256, 'sound': 3257, 'sounding': 3258, 'sounds': 3259, 'source': 3260, 'south': 3261, 'space': 3262, 'spacewalk': 3263, 'spain': 3264, 'spaniel': 3265, 'spares': 3266, 'spark': 3267, 'sparkin': 3268, 'sparks': 3269, 'speak': 3270, 'speakin': 3271, 'speaking': 3272, 'speaks': 3273, 'special': 3274, 'specialist': 3275, 'species': 3276, 'speed': 3277, 'sperm': 3278, 'spiderman': 3279, 'spiegel': 3280, 'spiked': 3281, 'spin': 3282, 'spine': 3283, 'spinnin': 3284, 'spinning': 3285, 'spiritual': 3286, 'spit': 3287, 'spite': 3288, 'spitfire': 3289, 'splash': 3290, 'splattered': 3291, 'spliffs': 3292, 'split': 3293, 'spoiled': 3294, 'sporadic': 3295, 'sport': 3296, 'spot': 3297, 'spots': 3298, 'spotted': 3299, 'spray': 3300, 'spread': 3301, 'spreaded': 3302, 'spree': 3303, 'sprint': 3304, 'spudz': 3305, 'squad': 3306, 'squadron': 3307, 'square': 3308, 'squeeze': 3309, 'squirm': 3310, 'stab': 3311, 'stabbin': 3312, 'stabbing': 3313, 'stabs': 3314, 'stack': 3315, 'stacked': 3316, 'stacks': 3317, 'stadium': 3318, 'stage': 3319, 'stain': 3320, 'staircase': 3321, 'stakes': 3322, 'stalking': 3323, 'stamped': 3324, 'stamps': 3325, 'stand': 3326, 'standby': 3327, 'standing': 3328, 'stank': 3329, \"stapleton's\": 3330, 'star': 3331, 'starboys': 3332, 'staring': 3333, 'starks': 3334, 'starky': 3335, 'stars': 3336, 'start': 3337, 'started': 3338, 'starts': 3339, 'stash': 3340, 'state': 3341, \"state's\": 3342, 'statement': 3343, 'staten': 3344, 'static': 3345, 'station': 3346, 'stats': 3347, 'statues': 3348, 'stature': 3349, 'stay': 3350, 'staying': 3351, 'stays': 3352, 'steadily': 3353, 'steamrollin': 3354, 'steel': 3355, 'steels': 3356, 'step': 3357, 'stephanie': 3358, 'stepped': 3359, 'steve': 3360, 'stick': 3361, 'stickin': 3362, 'sticking': 3363, 'sticks': 3364, 'stickup': 3365, 'stiff': 3366, 'stigma': 3367, 'stigmas': 3368, 'still': 3369, 'stimmy': 3370, 'sting': 3371, 'stingy': 3372, 'stinkbox': 3373, 'stinkin': 3374, 'stinks': 3375, 'stock': 3376, 'stocks': 3377, 'stomach': 3378, 'stomp': 3379, 'stompin': 3380, 'stood': 3381, 'stop': 3382, 'stopped': 3383, 'store': 3384, 'story': 3385, 'straight': 3386, 'strange': 3387, 'stranged': 3388, 'strapped': 3389, 'strate': 3390, 'strategy': 3391, 'stratosphere': 3392, 'stray': 3393, 'stream': 3394, 'streamlined': 3395, 'street': 3396, 'streetcar': 3397, 'streets': 3398, 'strength': 3399, 'strengthen': 3400, 'stress': 3401, 'stressin': 3402, 'stretcher': 3403, 'strickland': 3404, 'strictly': 3405, 'stride': 3406, 'strike': 3407, 'strikes': 3408, 'strip': 3409, 'stripped': 3410, 'strobe': 3411, 'stroke': 3412, 'stroll': 3413, 'strong': 3414, 'struck': 3415, 'strugglin': 3416, 'stuck': 3417, 'studyin': 3418, 'stuff': 3419, 'stuffed': 3420, 'stun': 3421, 'stupid': 3422, 'stupidity': 3423, 'style': 3424, \"style'll\": 3425, 'styles': 3426, 'su': 3427, 'subliminals': 3428, 'substantiala': 3429, 'such': 3430, 'sucked': 3431, 'suckers': 3432, 'suddenly': 3433, 'sue': 3434, 'suffers': 3435, 'suit': 3436, 'suite': 3437, 'summer': 3438, 'summertime': 3439, 'sun': 3440, 'sundaes': 3441, 'sundial': 3442, 'sunshine': 3443, 'super': 3444, 'superbad': 3445, 'superstar': 3446, 'supposed': 3447, 'supreme': 3448, 'sure': 3449, 'surely': 3450, 'surgeon': 3451, 'surges': 3452, 'surprise': 3453, 'surprised': 3454, 'surrender': 3455, 'surroundin': 3456, 'survey': 3457, 'survival': 3458, 'survivin': 3459, 'suspenseful': 3460, 'suuue': 3461, 'suuuuuuuuuuu': 3462, 'suzette': 3463, 'swallow': 3464, 'swamp': 3465, 'swarm': 3466, 'swayze': 3467, 'sweater': 3468, 'sweatin': 3469, 'sweet': 3470, 'swift': 3471, 'swing': 3472, 'swingin': 3473, 'swish': 3474, 'switch': 3475, 'switchin': 3476, 'swoon': 3477, 'sword': 3478, 'swordfight': 3479, 'swords': 3480, 'swung': 3481, 'system': 3482, 't': 3483, 'ta': 3484, \"ta's\": 3485, 'table': 3486, 'tablets': 3487, 'tactics': 3488, 'tails': 3489, 'take': 3490, 'takes': 3491, 'takin': 3492, 'taking': 3493, 'tale': 3494, 'talent': 3495, 'talk': 3496, 'talkin': 3497, 'talking': 3498, 'tall': 3499, 'tally': 3500, 'tamiko': 3501, 'tang': 3502, 'tank': 3503, 'tannnnnng': 3504, 'tannnnnnnng': 3505, 'tantrum': 3506, 'tape': 3507, 'tapes': 3508, 'tapestry': 3509, 'tapping': 3510, 'tarantino': 3511, 'tarantula': 3512, 'target': 3513, 'tarts': 3514, 'tarzan': 3515, 'task': 3516, 'taste': 3517, 'tat': 3518, 'taught': 3519, 'tawt': 3520, 'tea': 3521, 'teachers': 3522, 'teaching': 3523, 'team': 3524, 'tear': 3525, 'tearg': 3526, 'tearin': 3527, 'tearing': 3528, 'tears': 3529, 'tec': 3530, 'tech': 3531, 'technical': 3532, 'technique': 3533, 'techs': 3534, 'teen': 3535, 'teeth': 3536, 'tekitha': 3537, 'teks': 3538, 'telescope': 3539, 'televised': 3540, 'tell': 3541, 'tellin': 3542, 'telling': 3543, 'temple': 3544, 'ten': 3545, 'tenants': 3546, 'tend': 3547, 'tender': 3548, 'tenemants': 3549, 'tennis': 3550, 'terminal': 3551, 'terror': 3552, 'terrorism': 3553, 'terrorist': 3554, 'terrorists': 3555, 'terrorize': 3556, 'test': 3557, 'testament': 3558, 'testin': 3559, 'tevin': 3560, 'texas': 3561, 'tha': 3562, 'than': 3563, 'that': 3564, \"that's\": 3565, 'the': 3566, 'theatre': 3567, 'their': 3568, 'theives': 3569, 'thelma': 3570, 'them': 3571, 'theme': 3572, 'then': 3573, 'there': 3574, \"there's\": 3575, 'thermosphere': 3576, 'these': 3577, 'they': 3578, \"they're\": 3579, 'thick': 3580, 'thighs': 3581, 'thing': 3582, 'things': 3583, 'think': 3584, 'thinkers': 3585, 'thinks': 3586, 'third': 3587, 'thirsty': 3588, 'thirty': 3589, 'this': 3590, 'thor': 3591, 'thorough': 3592, 'thoroughbreds': 3593, 'thorpe': 3594, 'those': 3595, 'though': 3596, 'thought': 3597, 'thoughts': 3598, 'thousand': 3599, 'thousands': 3600, 'threat': 3601, 'three': 3602, 'threes': 3603, 'thrill': 3604, 'thriller': 3605, 'throat': 3606, 'throttle': 3607, 'through': 3608, 'throughout': 3609, 'throw': 3610, 'throwin': 3611, 'thrown': 3612, 'thru': 3613, 'thug': 3614, 'thugs': 3615, 'thump': 3616, 'thunder': 3617, 'tic': 3618, 'tical': 3619, 'ticallion': 3620, 'tickin': 3621, 'tickler': 3622, 'tie': 3623, 'tiger': 3624, 'tight': 3625, 'til': 3626, 'till': 3627, 'tim': 3628, 'timbaland': 3629, 'timberland': 3630, 'timberlands': 3631, 'time': 3632, \"time's\": 3633, 'times': 3634, 'tims': 3635, 'tip': 3636, 'tired': 3637, 'titties': 3638, 'to': 3639, 'toad': 3640, 'toc': 3641, 'toes': 3642, 'together': 3643, 'told': 3644, 'tolerance': 3645, 'tomorrow': 3646, 'tone': 3647, 'tongue': 3648, 'tonight': 3649, 'tony': 3650, 'too': 3651, 'took': 3652, 'toolie': 3653, 'tools': 3654, 'tooth': 3655, 'tootsie': 3656, 'top': 3657, 'torch': 3658, 'torn': 3659, 'torture': 3660, 'toss': 3661, 'tossin': 3662, 'total': 3663, 'totem': 3664, 'touch': 3665, 'touched': 3666, 'touches': 3667, 'tough': 3668, 'towels': 3669, 'towering': 3670, 'town': 3671, 'toxic': 3672, 'track': 3673, 'tracks': 3674, 'traffic': 3675, 'tragically': 3676, 'train': 3677, 'trained': 3678, 'trainers': 3679, 'training': 3680, 'trains': 3681, 'trample': 3682, 'tranquilised': 3683, 'tranquility': 3684, 'tranquilized': 3685, 'tranquilizer': 3686, 'transform': 3687, 'transfuse': 3688, 'trapped': 3689, 'travel': 3690, 'travels': 3691, 'travesty': 3692, 'tre': 3693, 'treasurer': 3694, 'tree': 3695, 'trees': 3696, 'tremendous': 3697, 'tri': 3698, 'tribe': 3699, 'tribute': 3700, 'trick': 3701, 'trickery': 3702, 'tried': 3703, 'trife': 3704, 'trigga': 3705, 'trigger': 3706, 'trippin': 3707, 'trips': 3708, 'trivia': 3709, 'troops': 3710, 'trophy': 3711, 'tropics': 3712, 'troposphere': 3713, 'trouble': 3714, 'truck': 3715, 'true': 3716, 'trunk': 3717, 'trust': 3718, 'truth': 3719, 'truths': 3720, 'try': 3721, 'tryin': 3722, 'trying': 3723, 'tryna': 3724, 'tubes': 3725, 'tuff': 3726, 'tune': 3727, 'tunes': 3728, 'turbulence': 3729, 'turf': 3730, 'turgeon': 3731, 'turn': 3732, 'turned': 3733, 'turners': 3734, 'turns': 3735, 'tusk': 3736, 'tustle': 3737, 'tweakin': 3738, 'twelve': 3739, 'twenty': 3740, 'twice': 3741, 'twin': 3742, 'twinkle': 3743, 'twinkling': 3744, 'twist': 3745, 'twisted': 3746, 'twisting': 3747, 'two': 3748, 'type': 3749, 'types': 3750, 'typhoon': 3751, 'u': 3752, 'uh': 3753, 'uhh': 3754, 'ultra': 3755, 'umm': 3756, 'unbeatable': 3757, 'unbreakable': 3758, 'uncivilized': 3759, 'uncle': 3760, 'uncompleted': 3761, 'uncut': 3762, 'under': 3763, 'underground': 3764, 'undergrowth': 3765, 'underneath': 3766, 'understand': 3767, 'understanding': 3768, 'understood': 3769, 'undivided': 3770, 'undone': 3771, 'unemployment': 3772, 'unglove': 3773, 'unicron': 3774, 'unified': 3775, 'uninvited': 3776, 'unique': 3777, 'unite': 3778, 'united': 3779, 'universal': 3780, 'unlimited': 3781, 'unparallel': 3782, 'unpredictable': 3783, 'unravelin': 3784, 'up': 3785, 'upmost': 3786, 'upside': 3787, 'upstate': 3788, 'uptowns': 3789, 'us': 3790, 'use': 3791, 'used': 3792, 'useful': 3793, 'usin': 3794, 'usually': 3795, 'utensil': 3796, 'utility': 3797, 'utter': 3798, 'v': 3799, 'vacay': 3800, 'vaccinated': 3801, 'vamp': 3802, 'vampire': 3803, 'vandal': 3804, 'vandals': 3805, 'vanilla': 3806, 'vanillas': 3807, 'variety': 3808, 'vary': 3809, 'vassey': 3810, 'vegas': 3811, 'veins': 3812, 'ven': 3813, 'ventricle': 3814, 'ver': 3815, 'verbal': 3816, 'verbally': 3817, 'verse': 3818, 'very': 3819, 'vest': 3820, 'vet': 3821, 'vexed': 3822, 'vibrate': 3823, \"vic'd\": 3824, 'vice': 3825, 'vicious': 3826, 'vicodin': 3827, 'victim': 3828, 'victims': 3829, 'victory': 3830, 'vid': 3831, 'video': 3832, 'vietnam': 3833, 'view': 3834, 'vigilante': 3835, 'violate': 3836, 'violent': 3837, 'violet': 3838, 'violins': 3839, 'virgin': 3840, 'virginia': 3841, 'visible': 3842, 'visual': 3843, 'vital': 3844, 'vocab': 3845, 'vocabulary': 3846, \"vocabulary's\": 3847, 'vocal': 3848, 'voice': 3849, 'voltron': 3850, 'vortex': 3851, 'voulez': 3852, 'vous': 3853, 'vu': 3854, 'w': 3855, 'wack': 3856, 'waco': 3857, 'wait': 3858, 'waitin': 3859, 'wake': 3860, 'wakes': 3861, 'walk': 3862, 'walkin': 3863, 'walking': 3864, 'wall': 3865, 'wallabees': 3866, 'wallers': 3867, \"wallo's\": 3868, 'walls': 3869, \"wally's\": 3870, 'wanna': 3871, 'want': 3872, 'wanted': 3873, 'war': 3874, 'ward': 3875, 'warmin': 3876, 'warrior': 3877, 'warriors': 3878, 'wars': 3879, 'was': 3880, \"wasn't\": 3881, 'wasted': 3882, 'watch': 3883, 'watching': 3884, 'water': 3885, 'watergate': 3886, 'watt': 3887, 'watts': 3888, 'waveburst': 3889, 'waves': 3890, 'waving': 3891, 'wax': 3892, 'way': 3893, 'ways': 3894, 'we': 3895, \"we'd\": 3896, \"we'll\": 3897, \"we're\": 3898, 'weak': 3899, 'weakenin': 3900, 'wealth': 3901, 'weapon': 3902, 'wear': 3903, 'wearing': 3904, 'weed': 3905, 'week': 3906, 'weeknd': 3907, 'weeks': 3908, 'weeps': 3909, 'weight': 3910, 'weird': 3911, 'welcome': 3912, 'welfare': 3913, 'well': 3914, 'went': 3915, 'were': 3916, 'west': 3917, 'wet': 3918, 'wettin': 3919, 'whadeva': 3920, 'wham': 3921, 'whammy': 3922, 'what': 3923, \"what's\": 3924, 'whatchu': 3925, 'whatever': 3926, 'whats': 3927, 'whattup': 3928, 'wheeler': 3929, 'when': 3930, 'where': 3931, \"where's\": 3932, 'which': 3933, 'while': 3934, 'whips': 3935, 'whirlpool': 3936, 'whistle': 3937, 'whistling': 3938, 'white': 3939, 'whizzin': 3940, 'who': 3941, \"who's\": 3942, 'whole': 3943, 'whom': 3944, 'whooping': 3945, 'why': 3946, 'whylin': 3947, 'whyyy': 3948, 'wicked': 3949, 'wicks': 3950, 'wide': 3951, 'wife': 3952, 'wig': 3953, 'wigs': 3954, 'wil': 3955, 'wild': 3956, 'wildest': 3957, 'will': 3958, 'willie': 3959, 'win': 3960, 'wind': 3961, \"wind's\": 3962, 'winds': 3963, 'windy': 3964, 'wine': 3965, 'winners': 3966, 'winter': 3967, 'wipin': 3968, 'wisdom': 3969, 'wise': 3970, 'wish': 3971, 'wit': 3972, 'with': 3973, 'without': 3974, 'witty': 3975, 'wo': 3976, 'wobble': 3977, 'women': 3978, 'womens': 3979, 'won': 3980, \"won't\": 3981, 'wonder': 3982, 'wooden': 3983, 'woods': 3984, 'woolies': 3985, 'wop': 3986, 'word': 3987, 'wordplay': 3988, 'words': 3989, 'work': 3990, 'working': 3991, 'world': 3992, \"world's\": 3993, 'worldwide': 3994, 'worried': 3995, 'worry': 3996, 'worse': 3997, 'worst': 3998, 'worth': 3999, 'would': 4000, \"wouldn't\": 4001, 'wounds': 4002, 'wow': 4003, 'wrap': 4004, 'wrappin': 4005, 'wreck': 4006, 'wrecker': 4007, 'wrestled': 4008, 'wright': 4009, 'wrinkled': 4010, 'write': 4011, 'writing': 4012, 'wrong': 4013, 'wrote': 4014, 'wu': 4015, 'wutang': 4016, 'wuz': 4017, 'x': 4018, 'y': 4019, \"y'all\": 4020, \"y's\": 4021, 'ya': 4022, \"ya'll\": 4023, 'yacht': 4024, 'yah': 4025, 'yahead': 4026, 'yahoo': 4027, 'yanks': 4028, 'yay': 4029, 'yea': 4030, 'yeah': 4031, 'yeahh': 4032, 'yeahhh': 4033, 'yeahhhahh': 4034, 'yeahhhh': 4035, 'year': 4036, 'years': 4037, 'yellin': 4038, 'yelling': 4039, 'yellow': 4040, 'yes': 4041, 'yet': 4042, 'yippy': 4043, 'yo': 4044, 'yohoo': 4045, 'yolk': 4046, 'yonder': 4047, 'york': 4048, 'you': 4049, \"you'd\": 4050, \"you'll\": 4051, \"you're\": 4052, \"you's\": 4053, \"you'se\": 4054, 'young': 4055, 'your': 4056, 'yours': 4057, 'yourz': 4058, 'youth': 4059, 'yvette': 4060, 'zag': 4061, 'zero': 4062, 'zig': 4063, 'zitos': 4064, 'zone': 4065, 'zoo': 4066, 'zoom': 4067, 'zulu': 4068}\n",
      "vocabulary size: 4069\n"
     ]
    }
   ],
   "source": [
    "vocab = set(all_lyric_lines)\n",
    "vocab = sorted(vocab)\n",
    "\n",
    "word_to_index = {w: i for i, w in enumerate(vocab)}\n",
    "index_to_word = {i: w for w, i in word_to_index.items()}\n",
    "word_indices = [word_to_index[word] for word in vocab]\n",
    "vocab_size = len(vocab)\n",
    "\n",
    "print(word_to_index)\n",
    "print('vocabulary size: {}'.format(vocab_size))"
   ]
  },
  {
   "cell_type": "code",
   "execution_count": 27,
   "metadata": {},
   "outputs": [],
   "source": [
    "def get_tokenized_lines(lines, seq_len):\n",
    "    tokenized = np.zeros((len(lines), seq_len))\n",
    "    \n",
    "    for r, line in enumerate(lines):\n",
    "        for c, word in enumerate(line):\n",
    "            tokenized[r, c] = word_to_index[word]\n",
    "\n",
    "    return tokenized"
   ]
  },
  {
   "cell_type": "code",
   "execution_count": 28,
   "metadata": {},
   "outputs": [],
   "source": [
    "tokenized_seq = get_tokenized_lines(sequences, SEQ_LENGTH)"
   ]
  },
  {
   "cell_type": "code",
   "execution_count": 29,
   "metadata": {},
   "outputs": [
    {
     "data": {
      "text/plain": [
       "(18887,)"
      ]
     },
     "execution_count": 29,
     "metadata": {},
     "output_type": "execute_result"
    }
   ],
   "source": [
    "tokenized_seq[:, -1].shape"
   ]
  },
  {
   "cell_type": "code",
   "execution_count": 30,
   "metadata": {},
   "outputs": [],
   "source": [
    "from keras.utils import to_categorical\n",
    "\n",
    "X, y = tokenized_seq[:, :-1], tokenized_seq[:, -1]\n",
    "y = to_categorical(y, num_classes=vocab_size)\n",
    "seq_length = len(X[0])"
   ]
  },
  {
   "cell_type": "code",
   "execution_count": 31,
   "metadata": {},
   "outputs": [
    {
     "name": "stdout",
     "output_type": "stream",
     "text": [
      "X_shape (18887, 50)\n",
      "y_shape (18887, 4069)\n"
     ]
    }
   ],
   "source": [
    "print(\"X_shape\", X.shape)\n",
    "print(\"y_shape\", y.shape)"
   ]
  },
  {
   "cell_type": "code",
   "execution_count": null,
   "metadata": {
    "scrolled": true
   },
   "outputs": [
    {
     "name": "stdout",
     "output_type": "stream",
     "text": [
      "Model: \"sequential_2\"\n",
      "_________________________________________________________________\n",
      "Layer (type)                 Output Shape              Param #   \n",
      "=================================================================\n",
      "embedding_2 (Embedding)      (None, 50, 50)            203450    \n",
      "_________________________________________________________________\n",
      "lstm_4 (LSTM)                (None, 50, 100)           60400     \n",
      "_________________________________________________________________\n",
      "lstm_5 (LSTM)                (None, 100)               80400     \n",
      "_________________________________________________________________\n",
      "dense_4 (Dense)              (None, 100)               10100     \n",
      "_________________________________________________________________\n",
      "dense_5 (Dense)              (None, 4069)              410969    \n",
      "=================================================================\n",
      "Total params: 765,319\n",
      "Trainable params: 765,319\n",
      "Non-trainable params: 0\n",
      "_________________________________________________________________\n",
      "None\n",
      "Epoch 1/200\n",
      "148/148 [==============================] - 11s 75ms/step - loss: 7.2257 - accuracy: 0.0507\n",
      "Epoch 2/200\n",
      "148/148 [==============================] - 16s 106ms/step - loss: 6.7824 - accuracy: 0.0541\n",
      "Epoch 3/200\n",
      "148/148 [==============================] - 16s 109ms/step - loss: 6.6354 - accuracy: 0.0541\n",
      "Epoch 4/200\n",
      "148/148 [==============================] - 16s 105ms/step - loss: 6.5024 - accuracy: 0.0555\n",
      "Epoch 5/200\n",
      "148/148 [==============================] - 16s 109ms/step - loss: 6.3779 - accuracy: 0.0571\n",
      "Epoch 6/200\n",
      "148/148 [==============================] - 16s 107ms/step - loss: 6.2787 - accuracy: 0.0607\n",
      "Epoch 7/200\n",
      "148/148 [==============================] - 16s 109ms/step - loss: 6.1781 - accuracy: 0.0640\n",
      "Epoch 8/200\n",
      "148/148 [==============================] - 16s 107ms/step - loss: 6.0821 - accuracy: 0.0667\n",
      "Epoch 9/200\n",
      "148/148 [==============================] - 16s 109ms/step - loss: 5.9940 - accuracy: 0.0688\n",
      "Epoch 10/200\n",
      "148/148 [==============================] - 16s 108ms/step - loss: 5.9053 - accuracy: 0.0713\n",
      "Epoch 11/200\n",
      "148/148 [==============================] - 16s 109ms/step - loss: 5.8196 - accuracy: 0.0724\n",
      "Epoch 12/200\n",
      "148/148 [==============================] - 16s 109ms/step - loss: 5.7333 - accuracy: 0.0752\n",
      "Epoch 13/200\n",
      "148/148 [==============================] - 16s 109ms/step - loss: 5.6471 - accuracy: 0.0776\n",
      "Epoch 14/200\n",
      "148/148 [==============================] - 16s 107ms/step - loss: 5.5644 - accuracy: 0.0796\n",
      "Epoch 15/200\n",
      "148/148 [==============================] - 16s 108ms/step - loss: 5.6935 - accuracy: 0.0748\n",
      "Epoch 16/200\n",
      "148/148 [==============================] - 16s 110ms/step - loss: 5.5158 - accuracy: 0.0819\n",
      "Epoch 17/200\n",
      "148/148 [==============================] - 16s 109ms/step - loss: 5.3830 - accuracy: 0.0865\n",
      "Epoch 18/200\n",
      "148/148 [==============================] - 16s 108ms/step - loss: 5.2808 - accuracy: 0.0917\n",
      "Epoch 19/200\n",
      "148/148 [==============================] - 16s 107ms/step - loss: 5.1860 - accuracy: 0.0960\n",
      "Epoch 20/200\n",
      "148/148 [==============================] - 16s 108ms/step - loss: 5.0751 - accuracy: 0.1014\n",
      "Epoch 21/200\n",
      "148/148 [==============================] - 16s 108ms/step - loss: 4.9609 - accuracy: 0.1071\n",
      "Epoch 22/200\n",
      "148/148 [==============================] - 16s 108ms/step - loss: 4.8419 - accuracy: 0.1146\n",
      "Epoch 23/200\n",
      "148/148 [==============================] - 16s 108ms/step - loss: 4.7257 - accuracy: 0.1208\n",
      "Epoch 24/200\n",
      " 60/148 [===========>..................] - ETA: 9s - loss: 4.5374 - accuracy: 0.1288"
     ]
    }
   ],
   "source": [
    "from keras.models import Sequential\n",
    "from keras.layers import Dense\n",
    "from keras.layers import LSTM\n",
    "from keras.layers import Embedding\n",
    "\n",
    "model = Sequential()\n",
    "model.add(Embedding(vocab_size, 50, input_length=seq_length))\n",
    "model.add(LSTM(100, return_sequences=True))\n",
    "model.add(LSTM(100))\n",
    "model.add(Dense(100, activation='relu'))\n",
    "model.add(Dense(vocab_size, activation='softmax'))\n",
    "print(model.summary())\n",
    "\n",
    "model.compile(loss='categorical_crossentropy', optimizer='adam', metrics=['accuracy'])\n",
    "history = model.fit(X, y, batch_size=128, epochs=200)"
   ]
  },
  {
   "cell_type": "code",
   "execution_count": null,
   "metadata": {
    "scrolled": false
   },
   "outputs": [],
   "source": [
    "model.save('word_model_wu_tang_clan.h5')"
   ]
  },
  {
   "cell_type": "code",
   "execution_count": 56,
   "metadata": {},
   "outputs": [],
   "source": [
    "from keras.models import load_model\n",
    "\n",
    "model = load_model('word_model_eminem.h5')"
   ]
  },
  {
   "cell_type": "code",
   "execution_count": 57,
   "metadata": {},
   "outputs": [],
   "source": [
    "def texts_to_sequences(texts, word_to_index):\n",
    "    indices = np.zeros((1, len(texts)), dtype=int)\n",
    "    \n",
    "    for i, text in enumerate(texts):\n",
    "        if text not in word_to_index:\n",
    "            random = index_to_word[randint(0,vocab_size)]\n",
    "            indices[:, i] = word_to_index[random]\n",
    "        else:\n",
    "            indices[:, i] = word_to_index[text]\n",
    "        \n",
    "    return indices"
   ]
  },
  {
   "cell_type": "code",
   "execution_count": 58,
   "metadata": {},
   "outputs": [],
   "source": [
    "def my_pad_sequences(seq, maxlen):\n",
    "    start = seq.shape[1] - maxlen\n",
    "    \n",
    "    return seq[:, start: start + maxlen]"
   ]
  },
  {
   "cell_type": "code",
   "execution_count": 59,
   "metadata": {},
   "outputs": [],
   "source": [
    "def generate_seq(model, word_to_index, seq_length, n_words):\n",
    "    generated = ''\n",
    "    usr_input = input(\"Write the beginning of your poem, the Drake machine will complete it. Your input is: \")\n",
    "    generated += usr_input \n",
    "    sys.stdout.write(\"\\n\\nHere is your poem: \\n\\n\") \n",
    "    \n",
    "    result = list()\n",
    "    in_text = [None] * 51\n",
    "    generated_list = generated.split()\n",
    "    \n",
    "    # if input is shorter than 51 words, fill the beginning with random words\n",
    "    if(len(generated_list) < 51):\n",
    "        end = len(generated_list)\n",
    "        for i in range (51 - end):\n",
    "            random = index_to_word[randint(0,vocab_size)]\n",
    "            in_text[i] = random\n",
    "            \n",
    "        index = 0\n",
    "        for i in range (51 - end, 51):\n",
    "            in_text[i] = generated_list[index]\n",
    "            index += 1\n",
    "\n",
    "    # if input is longer than 51 words, only use the last 51 words\n",
    "    if(len(generated_list) > 51):\n",
    "        end = len(generated_list)\n",
    "        in_text = generated_list[end-51:]\n",
    "\n",
    "    # generate words based on last 50 words\n",
    "    for _ in range(n_words):\n",
    "        encoded = texts_to_sequences(in_text[1:], word_to_index)\n",
    "        encoded = my_pad_sequences(encoded, maxlen=seq_length)\n",
    "        \n",
    "        yhat = model.predict_classes(encoded, verbose=0)\n",
    "        out_word = ''\n",
    "    \n",
    "        for word, index in word_to_index.items():\n",
    "            if index == yhat:\n",
    "                out_word = word\n",
    "                break\n",
    "        \n",
    "        in_text += ' ' + out_word\n",
    "        result.append(out_word)\n",
    "        \n",
    "    return ' '.join(result)"
   ]
  },
  {
   "cell_type": "code",
   "execution_count": 60,
   "metadata": {},
   "outputs": [
    {
     "name": "stdout",
     "output_type": "stream",
     "text": [
      "Write the beginning of your poem, the Drake machine will complete it. Your input is: sdahfjashdfkjashd asdfh\n",
      "\n",
      "\n",
      "Here is your poem: \n",
      "\n",
      "['coke', 'cookin', \"problem's\", 'headache', 'fifth', 'ovulating', 'birth', 'dear', 'neither', 'grips', 'aight', 'pacquiao', 'truthful', 'mann', 'babe', 'misconducts', 'extraterrestrial', 'dodgers', 'smack', 'ruin', 'jade', 'chasing', 'cars', 'poppins', 'tear', 'legendary', 'sorry', 'plenty', 'lewinsky', 'outdo', 'raps', 'growing', 'wide', 'sister', \"you'ont\", 'opposites', 'winks', 'glide', 'huge', 'southpaw', 'grasp', 'symbolic', 'harris', 'come', 'helped', 'muster', 'sit', 'beer', 'sweden', 'sdahfjashdfkjashd', 'asdfh']\n",
      "envision fellatio fellow fellatio fellow denver clothes flippity christmas flippity cat triangle uh sa minimum fellatio fellow fellatio fellow fellatio groups resentment lazy hangs pectations jump pigeonholed ho's pinkett clothes pinkett clothes pinkett clothes pinkett lazy hangs bury idaho west pigeonholed fellatio fellow fellatio fellow fellatio fellow denver clothes pinkett\n"
     ]
    }
   ],
   "source": [
    "generated = generate_seq(model, word_to_index, seq_length, 50)\n",
    "print(generated)"
   ]
  },
  {
   "cell_type": "code",
   "execution_count": null,
   "metadata": {},
   "outputs": [],
   "source": []
  },
  {
   "cell_type": "code",
   "execution_count": null,
   "metadata": {},
   "outputs": [],
   "source": []
  }
 ],
 "metadata": {
  "kernelspec": {
   "display_name": "Python 3",
   "language": "python",
   "name": "python3"
  },
  "language_info": {
   "codemirror_mode": {
    "name": "ipython",
    "version": 3
   },
   "file_extension": ".py",
   "mimetype": "text/x-python",
   "name": "python",
   "nbconvert_exporter": "python",
   "pygments_lexer": "ipython3",
   "version": "3.7.6"
  }
 },
 "nbformat": 4,
 "nbformat_minor": 2
}
